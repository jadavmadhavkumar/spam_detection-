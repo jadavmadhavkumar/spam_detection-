{
 "cells": [
  {
   "cell_type": "markdown",
   "id": "e5d8a04f",
   "metadata": {
    "papermill": {
     "duration": 0.010193,
     "end_time": "2024-12-06T15:48:08.910633",
     "exception": false,
     "start_time": "2024-12-06T15:48:08.900440",
     "status": "completed"
    },
    "tags": []
   },
   "source": [
    "<div style=\"\n",
    "    background: linear-gradient(to right, #f0f0f0, #e6e6e6); \n",
    "    padding: 30px; \n",
    "    border-radius: 15px;\n",
    "    color: #ff6600; /* Vibrant orange */\n",
    "    font-weight: bold; \n",
    "    text-align: center;\n",
    "    font-size: 28px; \n",
    "    font-family: 'Verdana', sans-serif;\n",
    "    box-shadow: 0px 4px 8px rgba(0, 0, 0, 0.2);\n",
    "\">\n",
    "    Spam Email Classifier\n",
    "</div>"
   ]
  },
  {
   "cell_type": "markdown",
   "id": "bcb5ebf4",
   "metadata": {
    "papermill": {
     "duration": 0.013905,
     "end_time": "2024-12-06T15:48:08.934627",
     "exception": false,
     "start_time": "2024-12-06T15:48:08.920722",
     "status": "completed"
    },
    "tags": []
   },
   "source": [
    "![spam](https://raw.githubusercontent.com/deepankarkotnala/Email-Spam-Ham-Classifier-NLP/master/images/email_spam_ham.png)"
   ]
  },
  {
   "cell_type": "markdown",
   "id": "7fb114eb",
   "metadata": {
    "papermill": {
     "duration": 0.008819,
     "end_time": "2024-12-06T15:48:08.952890",
     "exception": false,
     "start_time": "2024-12-06T15:48:08.944071",
     "status": "completed"
    },
    "tags": []
   },
   "source": [
    "<div style=\"\n",
    "    padding: 15px; \n",
    "    color: #ff6600; /* Darker orange */\n",
    "    font-weight: bold; \n",
    "    font-size: 20px; \n",
    "    font-family: 'Verdana', sans-serif;\n",
    "    text-align: left; /* Left-aligned */\n",
    "    box-shadow: 0px 2px 4px rgba(0, 0, 0, 0.2);\n",
    "    margin-top: 10px; /* Space between title and subtitle */\n",
    "\">\n",
    "    Import Some Important Libraries:\n",
    "</div>"
   ]
  },
  {
   "cell_type": "code",
   "execution_count": 1,
   "id": "627f2510",
   "metadata": {
    "execution": {
     "iopub.execute_input": "2024-12-06T15:48:08.972971Z",
     "iopub.status.busy": "2024-12-06T15:48:08.972579Z",
     "iopub.status.idle": "2024-12-06T15:48:12.683666Z",
     "shell.execute_reply": "2024-12-06T15:48:12.682567Z"
    },
    "papermill": {
     "duration": 3.723998,
     "end_time": "2024-12-06T15:48:12.686185",
     "exception": false,
     "start_time": "2024-12-06T15:48:08.962187",
     "status": "completed"
    },
    "tags": []
   },
   "outputs": [
    {
     "name": "stderr",
     "output_type": "stream",
     "text": [
      "[nltk_data] Downloading package punkt to\n",
      "[nltk_data]     C:\\Users\\madha\\AppData\\Roaming\\nltk_data...\n",
      "[nltk_data]   Package punkt is already up-to-date!\n",
      "[nltk_data] Downloading package stopwords to\n",
      "[nltk_data]     C:\\Users\\madha\\AppData\\Roaming\\nltk_data...\n",
      "[nltk_data]   Package stopwords is already up-to-date!\n",
      "[nltk_data] Downloading package wordnet to\n",
      "[nltk_data]     C:\\Users\\madha\\AppData\\Roaming\\nltk_data...\n",
      "[nltk_data]   Package wordnet is already up-to-date!\n",
      "[nltk_data] Downloading package omw-1.4 to\n",
      "[nltk_data]     C:\\Users\\madha\\AppData\\Roaming\\nltk_data...\n",
      "[nltk_data]   Package omw-1.4 is already up-to-date!\n"
     ]
    }
   ],
   "source": [
    "import pandas as pd\n",
    "import numpy as np\n",
    "import matplotlib.pyplot as plt\n",
    "import seaborn as sns\n",
    "import nltk\n",
    "import re\n",
    "from nltk.corpus import stopwords\n",
    "from nltk.stem import WordNetLemmatizer\n",
    "nltk.download('punkt')\n",
    "nltk.download('stopwords')\n",
    "nltk.download('wordnet')\n",
    "nltk.download('omw-1.4')\n",
    "from sklearn.feature_extraction.text import TfidfVectorizer\n",
    "\n",
    "from sklearn.preprocessing import LabelEncoder\n",
    "from nltk.tokenize import word_tokenize\n",
    "\n",
    "import nltk\n",
    "from collections import Counter\n"
   ]
  },
  {
   "cell_type": "markdown",
   "id": "974ea442",
   "metadata": {
    "papermill": {
     "duration": 0.009082,
     "end_time": "2024-12-06T15:48:12.704770",
     "exception": false,
     "start_time": "2024-12-06T15:48:12.695688",
     "status": "completed"
    },
    "tags": []
   },
   "source": [
    "<div style=\"\n",
    "    padding: 15px; \n",
    "    color: #ff6600; /* Darker orange */\n",
    "    font-weight: bold; \n",
    "    font-size: 20px; \n",
    "    font-family: 'Verdana', sans-serif;\n",
    "    text-align: left; /* Left-aligned */\n",
    "    box-shadow: 0px 2px 4px rgba(0, 0, 0, 0.2);\n",
    "    margin-top: 10px; /* Space between title and subtitle */\n",
    "\">\n",
    "    Remove Warnings:\n",
    "</div>"
   ]
  },
  {
   "cell_type": "code",
   "execution_count": 4,
   "id": "a9de6307",
   "metadata": {
    "execution": {
     "iopub.execute_input": "2024-12-06T15:48:12.724901Z",
     "iopub.status.busy": "2024-12-06T15:48:12.724370Z",
     "iopub.status.idle": "2024-12-06T15:48:12.729273Z",
     "shell.execute_reply": "2024-12-06T15:48:12.728243Z"
    },
    "papermill": {
     "duration": 0.017376,
     "end_time": "2024-12-06T15:48:12.731379",
     "exception": false,
     "start_time": "2024-12-06T15:48:12.714003",
     "status": "completed"
    },
    "tags": []
   },
   "outputs": [],
   "source": [
    "import warnings\n",
    "warnings .filterwarnings(\"ignore\")"
   ]
  },
  {
   "cell_type": "code",
   "execution_count": 5,
   "id": "14f9ac7d",
   "metadata": {
    "execution": {
     "iopub.execute_input": "2024-12-06T15:48:12.751610Z",
     "iopub.status.busy": "2024-12-06T15:48:12.750688Z",
     "iopub.status.idle": "2024-12-06T15:48:12.755850Z",
     "shell.execute_reply": "2024-12-06T15:48:12.754701Z"
    },
    "papermill": {
     "duration": 0.017514,
     "end_time": "2024-12-06T15:48:12.758042",
     "exception": false,
     "start_time": "2024-12-06T15:48:12.740528",
     "status": "completed"
    },
    "tags": []
   },
   "outputs": [],
   "source": [
    "pd.set_option(\"display.max_columns\",None)\n",
    "pd.set_option('display.max_rows',None)"
   ]
  },
  {
   "cell_type": "markdown",
   "id": "f8b2ea4f",
   "metadata": {
    "papermill": {
     "duration": 0.008942,
     "end_time": "2024-12-06T15:48:12.776417",
     "exception": false,
     "start_time": "2024-12-06T15:48:12.767475",
     "status": "completed"
    },
    "tags": []
   },
   "source": [
    "<div style=\"\n",
    "    padding: 15px; \n",
    "    color: #ff6600; /* Darker orange */\n",
    "    font-weight: bold; \n",
    "    font-size: 20px; \n",
    "    font-family: 'Verdana', sans-serif;\n",
    "    text-align: left; /* Left-aligned */\n",
    "    box-shadow: 0px 2px 4px rgba(0, 0, 0, 0.2);\n",
    "    margin-top: 10px; /* Space between title and subtitle */\n",
    "\">\n",
    "    Load Data:\n",
    "</div>\n"
   ]
  },
  {
   "cell_type": "code",
   "execution_count": 6,
   "id": "bd99cf16",
   "metadata": {
    "execution": {
     "iopub.execute_input": "2024-12-06T15:48:12.796858Z",
     "iopub.status.busy": "2024-12-06T15:48:12.796462Z",
     "iopub.status.idle": "2024-12-06T15:48:12.847699Z",
     "shell.execute_reply": "2024-12-06T15:48:12.846609Z"
    },
    "papermill": {
     "duration": 0.064317,
     "end_time": "2024-12-06T15:48:12.850108",
     "exception": false,
     "start_time": "2024-12-06T15:48:12.785791",
     "status": "completed"
    },
    "tags": []
   },
   "outputs": [
    {
     "data": {
      "text/html": [
       "<div>\n",
       "<style scoped>\n",
       "    .dataframe tbody tr th:only-of-type {\n",
       "        vertical-align: middle;\n",
       "    }\n",
       "\n",
       "    .dataframe tbody tr th {\n",
       "        vertical-align: top;\n",
       "    }\n",
       "\n",
       "    .dataframe thead th {\n",
       "        text-align: right;\n",
       "    }\n",
       "</style>\n",
       "<table border=\"1\" class=\"dataframe\">\n",
       "  <thead>\n",
       "    <tr style=\"text-align: right;\">\n",
       "      <th></th>\n",
       "      <th>v1</th>\n",
       "      <th>v2</th>\n",
       "      <th>Unnamed: 2</th>\n",
       "      <th>Unnamed: 3</th>\n",
       "      <th>Unnamed: 4</th>\n",
       "    </tr>\n",
       "  </thead>\n",
       "  <tbody>\n",
       "    <tr>\n",
       "      <th>0</th>\n",
       "      <td>ham</td>\n",
       "      <td>Go until jurong point, crazy.. Available only ...</td>\n",
       "      <td>NaN</td>\n",
       "      <td>NaN</td>\n",
       "      <td>NaN</td>\n",
       "    </tr>\n",
       "    <tr>\n",
       "      <th>1</th>\n",
       "      <td>ham</td>\n",
       "      <td>Ok lar... Joking wif u oni...</td>\n",
       "      <td>NaN</td>\n",
       "      <td>NaN</td>\n",
       "      <td>NaN</td>\n",
       "    </tr>\n",
       "    <tr>\n",
       "      <th>2</th>\n",
       "      <td>spam</td>\n",
       "      <td>Free entry in 2 a wkly comp to win FA Cup fina...</td>\n",
       "      <td>NaN</td>\n",
       "      <td>NaN</td>\n",
       "      <td>NaN</td>\n",
       "    </tr>\n",
       "    <tr>\n",
       "      <th>3</th>\n",
       "      <td>ham</td>\n",
       "      <td>U dun say so early hor... U c already then say...</td>\n",
       "      <td>NaN</td>\n",
       "      <td>NaN</td>\n",
       "      <td>NaN</td>\n",
       "    </tr>\n",
       "    <tr>\n",
       "      <th>4</th>\n",
       "      <td>ham</td>\n",
       "      <td>Nah I don't think he goes to usf, he lives aro...</td>\n",
       "      <td>NaN</td>\n",
       "      <td>NaN</td>\n",
       "      <td>NaN</td>\n",
       "    </tr>\n",
       "  </tbody>\n",
       "</table>\n",
       "</div>"
      ],
      "text/plain": [
       "     v1                                                 v2 Unnamed: 2  \\\n",
       "0   ham  Go until jurong point, crazy.. Available only ...        NaN   \n",
       "1   ham                      Ok lar... Joking wif u oni...        NaN   \n",
       "2  spam  Free entry in 2 a wkly comp to win FA Cup fina...        NaN   \n",
       "3   ham  U dun say so early hor... U c already then say...        NaN   \n",
       "4   ham  Nah I don't think he goes to usf, he lives aro...        NaN   \n",
       "\n",
       "  Unnamed: 3 Unnamed: 4  \n",
       "0        NaN        NaN  \n",
       "1        NaN        NaN  \n",
       "2        NaN        NaN  \n",
       "3        NaN        NaN  \n",
       "4        NaN        NaN  "
      ]
     },
     "execution_count": 6,
     "metadata": {},
     "output_type": "execute_result"
    }
   ],
   "source": [
    "df=pd.read_csv('spam.csv',encoding_errors= 'replace')\n",
    "df.head()"
   ]
  },
  {
   "cell_type": "markdown",
   "id": "8ab7d64e",
   "metadata": {
    "papermill": {
     "duration": 0.009494,
     "end_time": "2024-12-06T15:48:12.869036",
     "exception": false,
     "start_time": "2024-12-06T15:48:12.859542",
     "status": "completed"
    },
    "tags": []
   },
   "source": [
    "<div style=\"\n",
    "    padding: 15px; \n",
    "    color: #ff6600; /* Darker orange */\n",
    "    font-weight: bold; \n",
    "    font-size: 20px; \n",
    "    font-family: 'Verdana', sans-serif;\n",
    "    text-align: left; /* Left-aligned */\n",
    "    box-shadow: 0px 2px 4px rgba(0, 0, 0, 0.2);\n",
    "    margin-top: 10px; /* Space between title and subtitle */\n",
    "\">\n",
    "    Let's have information about the dataset:\n",
    "</div>\n"
   ]
  },
  {
   "cell_type": "code",
   "execution_count": 7,
   "id": "f50a2a52",
   "metadata": {
    "execution": {
     "iopub.execute_input": "2024-12-06T15:48:12.890188Z",
     "iopub.status.busy": "2024-12-06T15:48:12.889724Z",
     "iopub.status.idle": "2024-12-06T15:48:12.900630Z",
     "shell.execute_reply": "2024-12-06T15:48:12.899474Z"
    },
    "papermill": {
     "duration": 0.023852,
     "end_time": "2024-12-06T15:48:12.902721",
     "exception": false,
     "start_time": "2024-12-06T15:48:12.878869",
     "status": "completed"
    },
    "tags": []
   },
   "outputs": [],
   "source": [
    "# i will drop these colomns they aren't useful\n",
    "df.drop(['Unnamed: 2', 'Unnamed: 3', 'Unnamed: 4'], axis=1, inplace=True)"
   ]
  },
  {
   "cell_type": "code",
   "execution_count": 8,
   "id": "a54c86a6",
   "metadata": {
    "execution": {
     "iopub.execute_input": "2024-12-06T15:48:12.923637Z",
     "iopub.status.busy": "2024-12-06T15:48:12.923255Z",
     "iopub.status.idle": "2024-12-06T15:48:12.928318Z",
     "shell.execute_reply": "2024-12-06T15:48:12.927219Z"
    },
    "papermill": {
     "duration": 0.018155,
     "end_time": "2024-12-06T15:48:12.930422",
     "exception": false,
     "start_time": "2024-12-06T15:48:12.912267",
     "status": "completed"
    },
    "tags": []
   },
   "outputs": [],
   "source": [
    "# Rename columns for better clarity \n",
    "df.columns = ['Label', 'Message']"
   ]
  },
  {
   "cell_type": "code",
   "execution_count": 9,
   "id": "adb35639",
   "metadata": {
    "execution": {
     "iopub.execute_input": "2024-12-06T15:48:12.950667Z",
     "iopub.status.busy": "2024-12-06T15:48:12.950284Z",
     "iopub.status.idle": "2024-12-06T15:48:12.960655Z",
     "shell.execute_reply": "2024-12-06T15:48:12.959470Z"
    },
    "papermill": {
     "duration": 0.02301,
     "end_time": "2024-12-06T15:48:12.962800",
     "exception": false,
     "start_time": "2024-12-06T15:48:12.939790",
     "status": "completed"
    },
    "tags": []
   },
   "outputs": [
    {
     "data": {
      "text/html": [
       "<div>\n",
       "<style scoped>\n",
       "    .dataframe tbody tr th:only-of-type {\n",
       "        vertical-align: middle;\n",
       "    }\n",
       "\n",
       "    .dataframe tbody tr th {\n",
       "        vertical-align: top;\n",
       "    }\n",
       "\n",
       "    .dataframe thead th {\n",
       "        text-align: right;\n",
       "    }\n",
       "</style>\n",
       "<table border=\"1\" class=\"dataframe\">\n",
       "  <thead>\n",
       "    <tr style=\"text-align: right;\">\n",
       "      <th></th>\n",
       "      <th>Label</th>\n",
       "      <th>Message</th>\n",
       "    </tr>\n",
       "  </thead>\n",
       "  <tbody>\n",
       "    <tr>\n",
       "      <th>0</th>\n",
       "      <td>ham</td>\n",
       "      <td>Go until jurong point, crazy.. Available only ...</td>\n",
       "    </tr>\n",
       "    <tr>\n",
       "      <th>1</th>\n",
       "      <td>ham</td>\n",
       "      <td>Ok lar... Joking wif u oni...</td>\n",
       "    </tr>\n",
       "    <tr>\n",
       "      <th>2</th>\n",
       "      <td>spam</td>\n",
       "      <td>Free entry in 2 a wkly comp to win FA Cup fina...</td>\n",
       "    </tr>\n",
       "    <tr>\n",
       "      <th>3</th>\n",
       "      <td>ham</td>\n",
       "      <td>U dun say so early hor... U c already then say...</td>\n",
       "    </tr>\n",
       "    <tr>\n",
       "      <th>4</th>\n",
       "      <td>ham</td>\n",
       "      <td>Nah I don't think he goes to usf, he lives aro...</td>\n",
       "    </tr>\n",
       "  </tbody>\n",
       "</table>\n",
       "</div>"
      ],
      "text/plain": [
       "  Label                                            Message\n",
       "0   ham  Go until jurong point, crazy.. Available only ...\n",
       "1   ham                      Ok lar... Joking wif u oni...\n",
       "2  spam  Free entry in 2 a wkly comp to win FA Cup fina...\n",
       "3   ham  U dun say so early hor... U c already then say...\n",
       "4   ham  Nah I don't think he goes to usf, he lives aro..."
      ]
     },
     "execution_count": 9,
     "metadata": {},
     "output_type": "execute_result"
    }
   ],
   "source": [
    "df.head()"
   ]
  },
  {
   "cell_type": "code",
   "execution_count": 10,
   "id": "f5aced49",
   "metadata": {
    "execution": {
     "iopub.execute_input": "2024-12-06T15:48:12.983780Z",
     "iopub.status.busy": "2024-12-06T15:48:12.983406Z",
     "iopub.status.idle": "2024-12-06T15:48:12.989908Z",
     "shell.execute_reply": "2024-12-06T15:48:12.988825Z"
    },
    "papermill": {
     "duration": 0.019768,
     "end_time": "2024-12-06T15:48:12.992237",
     "exception": false,
     "start_time": "2024-12-06T15:48:12.972469",
     "status": "completed"
    },
    "tags": []
   },
   "outputs": [
    {
     "data": {
      "text/plain": [
       "(5572, 2)"
      ]
     },
     "execution_count": 10,
     "metadata": {},
     "output_type": "execute_result"
    }
   ],
   "source": [
    "df.shape"
   ]
  },
  {
   "cell_type": "code",
   "execution_count": 11,
   "id": "23ae375b",
   "metadata": {
    "execution": {
     "iopub.execute_input": "2024-12-06T15:48:13.013108Z",
     "iopub.status.busy": "2024-12-06T15:48:13.012714Z",
     "iopub.status.idle": "2024-12-06T15:48:13.037613Z",
     "shell.execute_reply": "2024-12-06T15:48:13.036392Z"
    },
    "papermill": {
     "duration": 0.037986,
     "end_time": "2024-12-06T15:48:13.039906",
     "exception": false,
     "start_time": "2024-12-06T15:48:13.001920",
     "status": "completed"
    },
    "tags": []
   },
   "outputs": [
    {
     "name": "stdout",
     "output_type": "stream",
     "text": [
      "<class 'pandas.core.frame.DataFrame'>\n",
      "RangeIndex: 5572 entries, 0 to 5571\n",
      "Data columns (total 2 columns):\n",
      " #   Column   Non-Null Count  Dtype \n",
      "---  ------   --------------  ----- \n",
      " 0   Label    5572 non-null   object\n",
      " 1   Message  5572 non-null   object\n",
      "dtypes: object(2)\n",
      "memory usage: 87.2+ KB\n"
     ]
    }
   ],
   "source": [
    "df.info()"
   ]
  },
  {
   "cell_type": "code",
   "execution_count": 12,
   "id": "afc4f083",
   "metadata": {
    "execution": {
     "iopub.execute_input": "2024-12-06T15:48:13.061214Z",
     "iopub.status.busy": "2024-12-06T15:48:13.060810Z",
     "iopub.status.idle": "2024-12-06T15:48:13.069999Z",
     "shell.execute_reply": "2024-12-06T15:48:13.068964Z"
    },
    "papermill": {
     "duration": 0.022223,
     "end_time": "2024-12-06T15:48:13.072050",
     "exception": false,
     "start_time": "2024-12-06T15:48:13.049827",
     "status": "completed"
    },
    "tags": []
   },
   "outputs": [
    {
     "data": {
      "text/plain": [
       "Label      0\n",
       "Message    0\n",
       "dtype: int64"
      ]
     },
     "execution_count": 12,
     "metadata": {},
     "output_type": "execute_result"
    }
   ],
   "source": [
    "df.isna().sum()"
   ]
  },
  {
   "cell_type": "code",
   "execution_count": 13,
   "id": "6942c052",
   "metadata": {
    "execution": {
     "iopub.execute_input": "2024-12-06T15:48:13.094468Z",
     "iopub.status.busy": "2024-12-06T15:48:13.093059Z",
     "iopub.status.idle": "2024-12-06T15:48:13.111624Z",
     "shell.execute_reply": "2024-12-06T15:48:13.110356Z"
    },
    "papermill": {
     "duration": 0.032032,
     "end_time": "2024-12-06T15:48:13.113968",
     "exception": false,
     "start_time": "2024-12-06T15:48:13.081936",
     "status": "completed"
    },
    "tags": []
   },
   "outputs": [
    {
     "data": {
      "text/html": [
       "<div>\n",
       "<style scoped>\n",
       "    .dataframe tbody tr th:only-of-type {\n",
       "        vertical-align: middle;\n",
       "    }\n",
       "\n",
       "    .dataframe tbody tr th {\n",
       "        vertical-align: top;\n",
       "    }\n",
       "\n",
       "    .dataframe thead th {\n",
       "        text-align: right;\n",
       "    }\n",
       "</style>\n",
       "<table border=\"1\" class=\"dataframe\">\n",
       "  <thead>\n",
       "    <tr style=\"text-align: right;\">\n",
       "      <th></th>\n",
       "      <th>Label</th>\n",
       "      <th>Message</th>\n",
       "    </tr>\n",
       "  </thead>\n",
       "  <tbody>\n",
       "    <tr>\n",
       "      <th>count</th>\n",
       "      <td>5572</td>\n",
       "      <td>5572</td>\n",
       "    </tr>\n",
       "    <tr>\n",
       "      <th>unique</th>\n",
       "      <td>2</td>\n",
       "      <td>5169</td>\n",
       "    </tr>\n",
       "    <tr>\n",
       "      <th>top</th>\n",
       "      <td>ham</td>\n",
       "      <td>Sorry, I'll call later</td>\n",
       "    </tr>\n",
       "    <tr>\n",
       "      <th>freq</th>\n",
       "      <td>4825</td>\n",
       "      <td>30</td>\n",
       "    </tr>\n",
       "  </tbody>\n",
       "</table>\n",
       "</div>"
      ],
      "text/plain": [
       "       Label                 Message\n",
       "count   5572                    5572\n",
       "unique     2                    5169\n",
       "top      ham  Sorry, I'll call later\n",
       "freq    4825                      30"
      ]
     },
     "execution_count": 13,
     "metadata": {},
     "output_type": "execute_result"
    }
   ],
   "source": [
    "df.describe(include='object')"
   ]
  },
  {
   "cell_type": "code",
   "execution_count": 14,
   "id": "630c0bc1",
   "metadata": {
    "execution": {
     "iopub.execute_input": "2024-12-06T15:48:13.136124Z",
     "iopub.status.busy": "2024-12-06T15:48:13.135712Z",
     "iopub.status.idle": "2024-12-06T15:48:13.145116Z",
     "shell.execute_reply": "2024-12-06T15:48:13.144092Z"
    },
    "papermill": {
     "duration": 0.022692,
     "end_time": "2024-12-06T15:48:13.147225",
     "exception": false,
     "start_time": "2024-12-06T15:48:13.124533",
     "status": "completed"
    },
    "tags": []
   },
   "outputs": [
    {
     "data": {
      "text/plain": [
       "403"
      ]
     },
     "execution_count": 14,
     "metadata": {},
     "output_type": "execute_result"
    }
   ],
   "source": [
    "df.duplicated().sum()"
   ]
  },
  {
   "cell_type": "code",
   "execution_count": 15,
   "id": "3810c4c9",
   "metadata": {
    "execution": {
     "iopub.execute_input": "2024-12-06T15:48:13.170364Z",
     "iopub.status.busy": "2024-12-06T15:48:13.169904Z",
     "iopub.status.idle": "2024-12-06T15:48:13.372779Z",
     "shell.execute_reply": "2024-12-06T15:48:13.371575Z"
    },
    "papermill": {
     "duration": 0.21902,
     "end_time": "2024-12-06T15:48:13.376687",
     "exception": false,
     "start_time": "2024-12-06T15:48:13.157667",
     "status": "completed"
    },
    "tags": []
   },
   "outputs": [
    {
     "name": "stdout",
     "output_type": "stream",
     "text": [
      "Number of duplicate rows: 403\n"
     ]
    },
    {
     "data": {
      "image/png": "[encoded data removed]",
      "text/plain": [
       "<Figure size 800x600 with 1 Axes>"
      ]
     },
     "metadata": {},
     "output_type": "display_data"
    }
   ],
   "source": [
    "# Count duplicated rows\n",
    "duplicate_count = df.duplicated().sum()\n",
    "\n",
    "print(f\"Number of duplicate rows: {duplicate_count}\")\n",
    "\n",
    "# Prepare data\n",
    "unique_count = len(df) - duplicate_count\n",
    "row_types = ['Unique Rows', 'Duplicate Rows']\n",
    "counts = [unique_count, duplicate_count]\n",
    "\n",
    "plt.figure(figsize=(8, 6))\n",
    "plt.pie(\n",
    "    counts, \n",
    "    labels=row_types, \n",
    "    autopct='%1.1f%%', \n",
    "    startangle=140, \n",
    "    colors=[\"#FFA07A\", \"#D3D3D3\"], \n",
    "    explode=(0.05, 0.15),  \n",
    "    textprops={'fontsize': 14, 'color': '#000000', 'fontweight': 'bold'}  \n",
    ")\n",
    "plt.title('Duplicate Rows Distribution', fontsize=18, color='#000000', fontweight='bold')  \n",
    "plt.show()\n"
   ]
  },
  {
   "cell_type": "code",
   "execution_count": 16,
   "id": "495cfe95",
   "metadata": {
    "execution": {
     "iopub.execute_input": "2024-12-06T15:48:13.415413Z",
     "iopub.status.busy": "2024-12-06T15:48:13.414750Z",
     "iopub.status.idle": "2024-12-06T15:48:13.426480Z",
     "shell.execute_reply": "2024-12-06T15:48:13.425141Z"
    },
    "papermill": {
     "duration": 0.03055,
     "end_time": "2024-12-06T15:48:13.428787",
     "exception": false,
     "start_time": "2024-12-06T15:48:13.398237",
     "status": "completed"
    },
    "tags": []
   },
   "outputs": [
    {
     "name": "stdout",
     "output_type": "stream",
     "text": [
      "    Label                                            Message\n",
      "102   ham  As per your request 'Melle Melle (Oru Minnamin...\n",
      "153   ham  As per your request 'Melle Melle (Oru Minnamin...\n",
      "206   ham  As I entered my cabin my PA said, '' Happy B'd...\n",
      "222   ham                             Sorry, I'll call later\n",
      "325   ham                   No calls..messages..missed calls\n"
     ]
    }
   ],
   "source": [
    "# Show duplicate rows\n",
    "duplicates = df[df.duplicated()]\n",
    "print(duplicates.head())"
   ]
  },
  {
   "cell_type": "code",
   "execution_count": 17,
   "id": "0d82300a",
   "metadata": {
    "execution": {
     "iopub.execute_input": "2024-12-06T15:48:13.452238Z",
     "iopub.status.busy": "2024-12-06T15:48:13.451454Z",
     "iopub.status.idle": "2024-12-06T15:48:13.459407Z",
     "shell.execute_reply": "2024-12-06T15:48:13.458239Z"
    },
    "papermill": {
     "duration": 0.021868,
     "end_time": "2024-12-06T15:48:13.461454",
     "exception": false,
     "start_time": "2024-12-06T15:48:13.439586",
     "status": "completed"
    },
    "tags": []
   },
   "outputs": [
    {
     "name": "stdout",
     "output_type": "stream",
     "text": [
      "Label\n",
      "ham     309\n",
      "spam     94\n",
      "Name: count, dtype: int64\n"
     ]
    }
   ],
   "source": [
    "# Check the label distribution among duplicates\n",
    "print(duplicates['Label'].value_counts())"
   ]
  },
  {
   "cell_type": "code",
   "execution_count": 18,
   "id": "13b7f0fd",
   "metadata": {
    "execution": {
     "iopub.execute_input": "2024-12-06T15:48:13.484935Z",
     "iopub.status.busy": "2024-12-06T15:48:13.484560Z",
     "iopub.status.idle": "2024-12-06T15:48:13.493643Z",
     "shell.execute_reply": "2024-12-06T15:48:13.492676Z"
    },
    "papermill": {
     "duration": 0.023694,
     "end_time": "2024-12-06T15:48:13.495957",
     "exception": false,
     "start_time": "2024-12-06T15:48:13.472263",
     "status": "completed"
    },
    "tags": []
   },
   "outputs": [],
   "source": [
    "df=df.drop_duplicates()"
   ]
  },
  {
   "cell_type": "code",
   "execution_count": 19,
   "id": "00689f7b",
   "metadata": {
    "execution": {
     "iopub.execute_input": "2024-12-06T15:48:13.519287Z",
     "iopub.status.busy": "2024-12-06T15:48:13.518520Z",
     "iopub.status.idle": "2024-12-06T15:48:13.524799Z",
     "shell.execute_reply": "2024-12-06T15:48:13.523850Z"
    },
    "papermill": {
     "duration": 0.020148,
     "end_time": "2024-12-06T15:48:13.526887",
     "exception": false,
     "start_time": "2024-12-06T15:48:13.506739",
     "status": "completed"
    },
    "tags": []
   },
   "outputs": [
    {
     "data": {
      "text/plain": [
       "(5169, 2)"
      ]
     },
     "execution_count": 19,
     "metadata": {},
     "output_type": "execute_result"
    }
   ],
   "source": [
    "df.shape"
   ]
  },
  {
   "cell_type": "code",
   "execution_count": 20,
   "id": "2bd8dfff",
   "metadata": {
    "execution": {
     "iopub.execute_input": "2024-12-06T15:48:13.550088Z",
     "iopub.status.busy": "2024-12-06T15:48:13.549675Z",
     "iopub.status.idle": "2024-12-06T15:48:13.559201Z",
     "shell.execute_reply": "2024-12-06T15:48:13.558244Z"
    },
    "papermill": {
     "duration": 0.023628,
     "end_time": "2024-12-06T15:48:13.561299",
     "exception": false,
     "start_time": "2024-12-06T15:48:13.537671",
     "status": "completed"
    },
    "tags": []
   },
   "outputs": [
    {
     "data": {
      "text/plain": [
       "0"
      ]
     },
     "execution_count": 20,
     "metadata": {},
     "output_type": "execute_result"
    }
   ],
   "source": [
    "df.duplicated().sum()"
   ]
  },
  {
   "cell_type": "code",
   "execution_count": 21,
   "id": "449c900d",
   "metadata": {
    "execution": {
     "iopub.execute_input": "2024-12-06T15:48:13.585096Z",
     "iopub.status.busy": "2024-12-06T15:48:13.584148Z",
     "iopub.status.idle": "2024-12-06T15:48:13.722661Z",
     "shell.execute_reply": "2024-12-06T15:48:13.721488Z"
    },
    "papermill": {
     "duration": 0.15361,
     "end_time": "2024-12-06T15:48:13.725829",
     "exception": false,
     "start_time": "2024-12-06T15:48:13.572219",
     "status": "completed"
    },
    "tags": []
   },
   "outputs": [
    {
     "data": {
      "image/png": "[encoded data removed]",
      "text/plain": [
       "<Figure size 800x600 with 1 Axes>"
      ]
     },
     "metadata": {},
     "output_type": "display_data"
    }
   ],
   "source": [
    "# Count the number of ham and spam messages\n",
    "label_counts = df['Label'].value_counts()\n",
    "\n",
    "# Plot the pie chart\n",
    "plt.figure(figsize=(8, 6))\n",
    "plt.pie(\n",
    "    label_counts, \n",
    "    labels=['Ham', 'Spam'],  \n",
    "    autopct='%1.1f%%', \n",
    "    startangle=140, \n",
    "    colors=[\"#FFA07A\", \"#D3D3D3\"],  \n",
    "    explode=(0.05, 0.15),  \n",
    "    textprops={'fontsize': 14, 'color': '#000000', 'fontweight': 'bold'}  \n",
    ")\n",
    "plt.title('Proportion of Ham vs Spam', fontsize=18, color='#000000', fontweight='bold')  \n",
    "plt.show()\n",
    "\n"
   ]
  },
  {
   "cell_type": "code",
   "execution_count": 22,
   "id": "ecc405b7",
   "metadata": {},
   "outputs": [
    {
     "name": "stdout",
     "output_type": "stream",
     "text": [
      "Requirement already satisfied: wordcloud in c:\\users\\madha\\anaconda3\\lib\\site-packages (1.9.4)\n",
      "Requirement already satisfied: numpy>=1.6.1 in c:\\users\\madha\\anaconda3\\lib\\site-packages (from wordcloud) (1.24.3)\n",
      "Requirement already satisfied: pillow in c:\\users\\madha\\anaconda3\\lib\\site-packages (from wordcloud) (9.4.0)\n",
      "Requirement already satisfied: matplotlib in c:\\users\\madha\\anaconda3\\lib\\site-packages (from wordcloud) (3.7.2)\n",
      "Requirement already satisfied: contourpy>=1.0.1 in c:\\users\\madha\\anaconda3\\lib\\site-packages (from matplotlib->wordcloud) (1.0.5)\n",
      "Requirement already satisfied: cycler>=0.10 in c:\\users\\madha\\anaconda3\\lib\\site-packages (from matplotlib->wordcloud) (0.11.0)\n",
      "Requirement already satisfied: fonttools>=4.22.0 in c:\\users\\madha\\anaconda3\\lib\\site-packages (from matplotlib->wordcloud) (4.25.0)\n",
      "Requirement already satisfied: kiwisolver>=1.0.1 in c:\\users\\madha\\anaconda3\\lib\\site-packages (from matplotlib->wordcloud) (1.4.4)\n",
      "Requirement already satisfied: packaging>=20.0 in c:\\users\\madha\\anaconda3\\lib\\site-packages (from matplotlib->wordcloud) (23.1)\n",
      "Requirement already satisfied: pyparsing<3.1,>=2.3.1 in c:\\users\\madha\\anaconda3\\lib\\site-packages (from matplotlib->wordcloud) (3.0.9)\n",
      "Requirement already satisfied: python-dateutil>=2.7 in c:\\users\\madha\\anaconda3\\lib\\site-packages (from matplotlib->wordcloud) (2.8.2)\n",
      "Requirement already satisfied: six>=1.5 in c:\\users\\madha\\anaconda3\\lib\\site-packages (from python-dateutil>=2.7->matplotlib->wordcloud) (1.16.0)\n",
      "Note: you may need to restart the kernel to use updated packages.\n"
     ]
    }
   ],
   "source": [
    "pip install wordcloud\n"
   ]
  },
  {
   "cell_type": "code",
   "execution_count": 23,
   "id": "1316eeb4",
   "metadata": {
    "execution": {
     "iopub.execute_input": "2024-12-06T15:48:13.770872Z",
     "iopub.status.busy": "2024-12-06T15:48:13.769478Z",
     "iopub.status.idle": "2024-12-06T15:48:15.932533Z",
     "shell.execute_reply": "2024-12-06T15:48:15.931236Z"
    },
    "papermill": {
     "duration": 2.191324,
     "end_time": "2024-12-06T15:48:15.938108",
     "exception": false,
     "start_time": "2024-12-06T15:48:13.746784",
     "status": "completed"
    },
    "tags": []
   },
   "outputs": [
    {
     "data": {
      "image/png": "[encoded data removed]",
      "text/plain": [
       "<Figure size 1400x700 with 2 Axes>"
      ]
     },
     "metadata": {},
     "output_type": "display_data"
    }
   ],
   "source": [
    "from wordcloud import WordCloud\n",
    "\n",
    "# Word Cloud for Ham\n",
    "ham_words = ' '.join(df[df['Label'] == 'ham']['Message'])\n",
    "ham_wordcloud = WordCloud(width=800, height=400, background_color='white', colormap='autumn').generate(ham_words)\n",
    "\n",
    "# Word Cloud for Spam\n",
    "spam_words = ' '.join(df[df['Label'] == 'spam']['Message'])\n",
    "spam_wordcloud = WordCloud(width=800, height=400, background_color='white', colormap='Oranges').generate(spam_words)\n",
    "\n",
    "# Display word clouds\n",
    "plt.figure(figsize=(14, 7))\n",
    "plt.subplot(1, 2, 1)\n",
    "plt.imshow(ham_wordcloud, interpolation='bilinear')\n",
    "plt.title('Word Cloud for Ham Messages', fontsize=16, color='#FF6600', fontweight='bold')\n",
    "plt.axis('off')\n",
    "\n",
    "plt.subplot(1, 2, 2)\n",
    "plt.imshow(spam_wordcloud, interpolation='bilinear')\n",
    "plt.title('Word Cloud for Spam Messages', fontsize=16, color='#FF6600', fontweight='bold')\n",
    "plt.axis('off')\n",
    "\n",
    "plt.show()\n"
   ]
  },
  {
   "cell_type": "code",
   "execution_count": 24,
   "id": "6e3b7f9b",
   "metadata": {
    "execution": {
     "iopub.execute_input": "2024-12-06T15:48:15.974210Z",
     "iopub.status.busy": "2024-12-06T15:48:15.973088Z",
     "iopub.status.idle": "2024-12-06T15:48:16.047848Z",
     "shell.execute_reply": "2024-12-06T15:48:16.046732Z"
    },
    "papermill": {
     "duration": 0.096387,
     "end_time": "2024-12-06T15:48:16.050405",
     "exception": false,
     "start_time": "2024-12-06T15:48:15.954018",
     "status": "completed"
    },
    "tags": []
   },
   "outputs": [],
   "source": [
    "# Adding Word Count Feature\n",
    "df['Word_Count'] = df['Message'].apply(lambda x: len(str(x).split()))\n",
    "\n",
    "# Adding Character Count Feature\n",
    "df['Char_Count'] = df['Message'].apply(lambda x: len(str(x)))\n",
    "\n",
    "# Adding Average Word Length Feature\n",
    "# Handling division by zero to avoid errors for messages with zero words\n",
    "df['Avg_Word_Length'] = df.apply(\n",
    "    lambda row: row['Char_Count'] / row['Word_Count'] if row['Word_Count'] > 0 else 0, axis=1\n",
    ")\n"
   ]
  },
  {
   "cell_type": "code",
   "execution_count": 25,
   "id": "644392b2",
   "metadata": {
    "execution": {
     "iopub.execute_input": "2024-12-06T15:48:16.084179Z",
     "iopub.status.busy": "2024-12-06T15:48:16.083198Z",
     "iopub.status.idle": "2024-12-06T15:48:16.095000Z",
     "shell.execute_reply": "2024-12-06T15:48:16.093920Z"
    },
    "papermill": {
     "duration": 0.030926,
     "end_time": "2024-12-06T15:48:16.097032",
     "exception": false,
     "start_time": "2024-12-06T15:48:16.066106",
     "status": "completed"
    },
    "tags": []
   },
   "outputs": [
    {
     "data": {
      "text/html": [
       "<div>\n",
       "<style scoped>\n",
       "    .dataframe tbody tr th:only-of-type {\n",
       "        vertical-align: middle;\n",
       "    }\n",
       "\n",
       "    .dataframe tbody tr th {\n",
       "        vertical-align: top;\n",
       "    }\n",
       "\n",
       "    .dataframe thead th {\n",
       "        text-align: right;\n",
       "    }\n",
       "</style>\n",
       "<table border=\"1\" class=\"dataframe\">\n",
       "  <thead>\n",
       "    <tr style=\"text-align: right;\">\n",
       "      <th></th>\n",
       "      <th>Label</th>\n",
       "      <th>Message</th>\n",
       "      <th>Word_Count</th>\n",
       "      <th>Char_Count</th>\n",
       "      <th>Avg_Word_Length</th>\n",
       "    </tr>\n",
       "  </thead>\n",
       "  <tbody>\n",
       "    <tr>\n",
       "      <th>0</th>\n",
       "      <td>ham</td>\n",
       "      <td>Go until jurong point, crazy.. Available only ...</td>\n",
       "      <td>20</td>\n",
       "      <td>111</td>\n",
       "      <td>5.550000</td>\n",
       "    </tr>\n",
       "    <tr>\n",
       "      <th>1</th>\n",
       "      <td>ham</td>\n",
       "      <td>Ok lar... Joking wif u oni...</td>\n",
       "      <td>6</td>\n",
       "      <td>29</td>\n",
       "      <td>4.833333</td>\n",
       "    </tr>\n",
       "    <tr>\n",
       "      <th>2</th>\n",
       "      <td>spam</td>\n",
       "      <td>Free entry in 2 a wkly comp to win FA Cup fina...</td>\n",
       "      <td>28</td>\n",
       "      <td>155</td>\n",
       "      <td>5.535714</td>\n",
       "    </tr>\n",
       "    <tr>\n",
       "      <th>3</th>\n",
       "      <td>ham</td>\n",
       "      <td>U dun say so early hor... U c already then say...</td>\n",
       "      <td>11</td>\n",
       "      <td>49</td>\n",
       "      <td>4.454545</td>\n",
       "    </tr>\n",
       "    <tr>\n",
       "      <th>4</th>\n",
       "      <td>ham</td>\n",
       "      <td>Nah I don't think he goes to usf, he lives aro...</td>\n",
       "      <td>13</td>\n",
       "      <td>61</td>\n",
       "      <td>4.692308</td>\n",
       "    </tr>\n",
       "  </tbody>\n",
       "</table>\n",
       "</div>"
      ],
      "text/plain": [
       "  Label                                            Message  Word_Count  \\\n",
       "0   ham  Go until jurong point, crazy.. Available only ...          20   \n",
       "1   ham                      Ok lar... Joking wif u oni...           6   \n",
       "2  spam  Free entry in 2 a wkly comp to win FA Cup fina...          28   \n",
       "3   ham  U dun say so early hor... U c already then say...          11   \n",
       "4   ham  Nah I don't think he goes to usf, he lives aro...          13   \n",
       "\n",
       "   Char_Count  Avg_Word_Length  \n",
       "0         111         5.550000  \n",
       "1          29         4.833333  \n",
       "2         155         5.535714  \n",
       "3          49         4.454545  \n",
       "4          61         4.692308  "
      ]
     },
     "execution_count": 25,
     "metadata": {},
     "output_type": "execute_result"
    }
   ],
   "source": [
    "df.head()"
   ]
  },
  {
   "cell_type": "code",
   "execution_count": 26,
   "id": "d40a9954",
   "metadata": {
    "execution": {
     "iopub.execute_input": "2024-12-06T15:48:16.130738Z",
     "iopub.status.busy": "2024-12-06T15:48:16.130374Z",
     "iopub.status.idle": "2024-12-06T15:48:16.247221Z",
     "shell.execute_reply": "2024-12-06T15:48:16.245977Z"
    },
    "papermill": {
     "duration": 0.136545,
     "end_time": "2024-12-06T15:48:16.249574",
     "exception": false,
     "start_time": "2024-12-06T15:48:16.113029",
     "status": "completed"
    },
    "tags": []
   },
   "outputs": [
    {
     "data": {
      "text/html": [
       "<div>\n",
       "<style scoped>\n",
       "    .dataframe tbody tr th:only-of-type {\n",
       "        vertical-align: middle;\n",
       "    }\n",
       "\n",
       "    .dataframe tbody tr th {\n",
       "        vertical-align: top;\n",
       "    }\n",
       "\n",
       "    .dataframe thead th {\n",
       "        text-align: right;\n",
       "    }\n",
       "</style>\n",
       "<table border=\"1\" class=\"dataframe\">\n",
       "  <thead>\n",
       "    <tr style=\"text-align: right;\">\n",
       "      <th></th>\n",
       "      <th>Word_Count</th>\n",
       "      <th>Char_Count</th>\n",
       "      <th>Avg_Word_Length</th>\n",
       "    </tr>\n",
       "  </thead>\n",
       "  <tbody>\n",
       "    <tr>\n",
       "      <th>count</th>\n",
       "      <td>5169.000000</td>\n",
       "      <td>5169.000000</td>\n",
       "      <td>5169.000000</td>\n",
       "    </tr>\n",
       "    <tr>\n",
       "      <th>mean</th>\n",
       "      <td>15.340685</td>\n",
       "      <td>78.923776</td>\n",
       "      <td>5.165399</td>\n",
       "    </tr>\n",
       "    <tr>\n",
       "      <th>std</th>\n",
       "      <td>11.068488</td>\n",
       "      <td>58.174846</td>\n",
       "      <td>1.128830</td>\n",
       "    </tr>\n",
       "    <tr>\n",
       "      <th>min</th>\n",
       "      <td>1.000000</td>\n",
       "      <td>2.000000</td>\n",
       "      <td>2.000000</td>\n",
       "    </tr>\n",
       "    <tr>\n",
       "      <th>25%</th>\n",
       "      <td>7.000000</td>\n",
       "      <td>36.000000</td>\n",
       "      <td>4.571429</td>\n",
       "    </tr>\n",
       "    <tr>\n",
       "      <th>50%</th>\n",
       "      <td>12.000000</td>\n",
       "      <td>60.000000</td>\n",
       "      <td>5.000000</td>\n",
       "    </tr>\n",
       "    <tr>\n",
       "      <th>75%</th>\n",
       "      <td>22.000000</td>\n",
       "      <td>117.000000</td>\n",
       "      <td>5.571429</td>\n",
       "    </tr>\n",
       "    <tr>\n",
       "      <th>max</th>\n",
       "      <td>171.000000</td>\n",
       "      <td>910.000000</td>\n",
       "      <td>49.000000</td>\n",
       "    </tr>\n",
       "  </tbody>\n",
       "</table>\n",
       "</div>"
      ],
      "text/plain": [
       "        Word_Count   Char_Count  Avg_Word_Length\n",
       "count  5169.000000  5169.000000      5169.000000\n",
       "mean     15.340685    78.923776         5.165399\n",
       "std      11.068488    58.174846         1.128830\n",
       "min       1.000000     2.000000         2.000000\n",
       "25%       7.000000    36.000000         4.571429\n",
       "50%      12.000000    60.000000         5.000000\n",
       "75%      22.000000   117.000000         5.571429\n",
       "max     171.000000   910.000000        49.000000"
      ]
     },
     "execution_count": 26,
     "metadata": {},
     "output_type": "execute_result"
    }
   ],
   "source": [
    "df.describe()"
   ]
  },
  {
   "cell_type": "markdown",
   "id": "23b81934",
   "metadata": {
    "papermill": {
     "duration": 0.015587,
     "end_time": "2024-12-06T15:48:16.281140",
     "exception": false,
     "start_time": "2024-12-06T15:48:16.265553",
     "status": "completed"
    },
    "tags": []
   },
   "source": [
    "<div style=\"\n",
    "    padding: 15px; \n",
    "    color: #ff6600; /* Darker orange */\n",
    "    font-weight: bold; \n",
    "    font-size: 20px; \n",
    "    font-family: 'Verdana', sans-serif;\n",
    "    text-align: left; /* Left-aligned */\n",
    "    box-shadow: 0px 2px 4px rgba(0, 0, 0, 0.2);\n",
    "    margin-top: 10px; /* Space between title and subtitle */\n",
    "\">\n",
    "    Preprocess Data:\n",
    "</div>"
   ]
  },
  {
   "cell_type": "code",
   "execution_count": 27,
   "id": "0c9cd5bb",
   "metadata": {
    "execution": {
     "iopub.execute_input": "2024-12-06T15:48:16.314882Z",
     "iopub.status.busy": "2024-12-06T15:48:16.314237Z",
     "iopub.status.idle": "2024-12-06T15:48:16.326204Z",
     "shell.execute_reply": "2024-12-06T15:48:16.325200Z"
    },
    "papermill": {
     "duration": 0.031519,
     "end_time": "2024-12-06T15:48:16.328567",
     "exception": false,
     "start_time": "2024-12-06T15:48:16.297048",
     "status": "completed"
    },
    "tags": []
   },
   "outputs": [],
   "source": [
    "from sklearn.preprocessing import MinMaxScaler\n",
    "scaler = MinMaxScaler()\n",
    "df[['Word_Count', 'Char_Count', 'Avg_Word_Length']] = scaler.fit_transform(df[['Word_Count', 'Char_Count', 'Avg_Word_Length']])\n"
   ]
  },
  {
   "cell_type": "code",
   "execution_count": 28,
   "id": "ad64a75d",
   "metadata": {
    "execution": {
     "iopub.execute_input": "2024-12-06T15:48:16.362890Z",
     "iopub.status.busy": "2024-12-06T15:48:16.361876Z",
     "iopub.status.idle": "2024-12-06T15:48:16.370557Z",
     "shell.execute_reply": "2024-12-06T15:48:16.369455Z"
    },
    "papermill": {
     "duration": 0.027908,
     "end_time": "2024-12-06T15:48:16.372491",
     "exception": false,
     "start_time": "2024-12-06T15:48:16.344583",
     "status": "completed"
    },
    "tags": []
   },
   "outputs": [],
   "source": [
    "def normalize_text(text):\n",
    "    \"\"\"\n",
    "    Enhanced text normalization: lowercasing, punctuation removal, stopword removal,\n",
    "    abbreviation handling, and rare word removal.\n",
    "    \"\"\"\n",
    "    # Initialize stopwords\n",
    "    stop_words = set(stopwords.words('english'))\n",
    "    \n",
    "    # Custom abbreviations dictionary\n",
    "    abbreviations = {\n",
    "        \"la\": \"\",\n",
    "        \"wat\": \"what\",\n",
    "        \"n\": \"and\",\n",
    "        \"ur\": \"your\",\n",
    "        \"u\": \"you\"\n",
    "    }\n",
    "    \n",
    "    # Convert text to lowercase\n",
    "    text = text.lower()\n",
    "    \n",
    "    # Expand abbreviations\n",
    "    words = text.split()\n",
    "    words = [abbreviations.get(word, word) for word in words]\n",
    "    text = \" \".join(words)\n",
    "    \n",
    "    # Tokenize the text into words\n",
    "    words = word_tokenize(text)\n",
    "    \n",
    "    # Remove punctuation, non-alphabetic characters, and stopwords\n",
    "    words = [re.sub(r\"[^\\w\\s]\", \"\", word) for word in words if word.isalpha() and word not in stop_words]\n",
    "    \n",
    "    # Rare words removal (can be applied after initial processing)\n",
    "    word_counts = Counter(\" \".join(df['Message']).split())\n",
    "    rare_words = {word for word, count in word_counts.items() if count < 2}\n",
    "    words = [word for word in words if word not in rare_words]\n",
    "    \n",
    "    # Join words back into a single string\n",
    "    normalized_text = \" \".join(words)\n",
    "    \n",
    "    return normalized_text\n"
   ]
  },
  {
   "cell_type": "code",
   "execution_count": 31,
   "id": "bfb1e7f3",
   "metadata": {
    "execution": {
     "iopub.execute_input": "2024-12-06T15:48:16.406993Z",
     "iopub.status.busy": "2024-12-06T15:48:16.406020Z",
     "iopub.status.idle": "2024-12-06T15:48:16.476985Z",
     "shell.execute_reply": "2024-12-06T15:48:16.475884Z"
    },
    "papermill": {
     "duration": 0.090578,
     "end_time": "2024-12-06T15:48:16.479279",
     "exception": false,
     "start_time": "2024-12-06T15:48:16.388701",
     "status": "completed"
    },
    "tags": []
   },
   "outputs": [
    {
     "name": "stderr",
     "output_type": "stream",
     "text": [
      "[nltk_data] Downloading package wordnet to\n",
      "[nltk_data]     C:\\Users\\madha\\AppData\\Roaming\\nltk_data...\n",
      "[nltk_data]   Package wordnet is already up-to-date!\n",
      "[nltk_data] Downloading package omw-1.4 to\n",
      "[nltk_data]     C:\\Users\\madha\\AppData\\Roaming\\nltk_data...\n",
      "[nltk_data]   Package omw-1.4 is already up-to-date!\n"
     ]
    },
    {
     "data": {
      "text/plain": [
       "True"
      ]
     },
     "execution_count": 31,
     "metadata": {},
     "output_type": "execute_result"
    }
   ],
   "source": [
    "import nltk\n",
    "nltk.download('wordnet')\n",
    "nltk.download('omw-1.4')  # Optional, to ensure full support for lemmatization\n"
   ]
  },
  {
   "cell_type": "code",
   "execution_count": 32,
   "id": "306719df",
   "metadata": {
    "execution": {
     "iopub.execute_input": "2024-12-06T15:48:16.515075Z",
     "iopub.status.busy": "2024-12-06T15:48:16.514282Z",
     "iopub.status.idle": "2024-12-06T15:48:16.524464Z",
     "shell.execute_reply": "2024-12-06T15:48:16.523568Z"
    },
    "papermill": {
     "duration": 0.031201,
     "end_time": "2024-12-06T15:48:16.527039",
     "exception": false,
     "start_time": "2024-12-06T15:48:16.495838",
     "status": "completed"
    },
    "tags": []
   },
   "outputs": [],
   "source": [
    "from nltk.corpus import stopwords\n",
    "from nltk.tokenize import word_tokenize\n",
    "from nltk.stem import PorterStemmer\n",
    "import re\n",
    "\n",
    "# Initialize Stemmer and stopwords\n",
    "stemmer = PorterStemmer()\n",
    "stop_words = set(stopwords.words('english'))\n",
    "\n",
    "# Custom abbreviation mapping\n",
    "abbreviations = {\n",
    "    \"u\": \"you\",\n",
    "    \"ur\": \"your\",\n",
    "    \"la\": \"the\",  # Optional: Add abbreviation mappings here\n",
    "    \"wat\": \"what\",\n",
    "    \"n\": \"and\",\n",
    "    \"e\": \"the\"\n",
    "}\n",
    "\n",
    "# Function to handle text normalization with stemming, stopwords, and abbreviation handling\n",
    "def normalize_text(text):\n",
    "    \"\"\"\n",
    "    Simplified text normalization: lowercasing, punctuation removal, stopword removal, \n",
    "    abbreviation handling, and stemming.\n",
    "    \"\"\"\n",
    "    # Convert text to lowercase\n",
    "    text = text.lower()\n",
    "\n",
    "    # Tokenize the text into words\n",
    "    words = word_tokenize(text)\n",
    "\n",
    "    # Expand abbreviations\n",
    "    words = [abbreviations.get(word, word) for word in words]\n",
    "\n",
    "    # Remove punctuation, stopwords, and non-alphabetic words\n",
    "    words = [re.sub(r\"[^\\w\\s]\", \"\", word) for word in words if word.isalpha() and word not in stop_words]\n",
    "\n",
    "    # Stem words\n",
    "    words = [stemmer.stem(word) for word in words]\n",
    "\n",
    "    # Join words back into a single string\n",
    "    normalized_text = \" \".join(words)\n",
    "    return normalized_text"
   ]
  },
  {
   "cell_type": "code",
   "execution_count": 33,
   "id": "f1e6ed28",
   "metadata": {
    "execution": {
     "iopub.execute_input": "2024-12-06T15:48:16.563006Z",
     "iopub.status.busy": "2024-12-06T15:48:16.561995Z",
     "iopub.status.idle": "2024-12-06T15:48:18.523027Z",
     "shell.execute_reply": "2024-12-06T15:48:18.522046Z"
    },
    "papermill": {
     "duration": 1.981054,
     "end_time": "2024-12-06T15:48:18.525423",
     "exception": false,
     "start_time": "2024-12-06T15:48:16.544369",
     "status": "completed"
    },
    "tags": []
   },
   "outputs": [],
   "source": [
    "# Apply the normalize_text function to the 'Message' column\n",
    "df['Normalized_Message'] = df['Message'].apply(normalize_text)\n"
   ]
  },
  {
   "cell_type": "code",
   "execution_count": 34,
   "id": "53c17484",
   "metadata": {
    "execution": {
     "iopub.execute_input": "2024-12-06T15:48:18.559674Z",
     "iopub.status.busy": "2024-12-06T15:48:18.559280Z",
     "iopub.status.idle": "2024-12-06T15:48:18.572460Z",
     "shell.execute_reply": "2024-12-06T15:48:18.571239Z"
    },
    "papermill": {
     "duration": 0.032543,
     "end_time": "2024-12-06T15:48:18.574631",
     "exception": false,
     "start_time": "2024-12-06T15:48:18.542088",
     "status": "completed"
    },
    "tags": []
   },
   "outputs": [
    {
     "data": {
      "text/html": [
       "<div>\n",
       "<style scoped>\n",
       "    .dataframe tbody tr th:only-of-type {\n",
       "        vertical-align: middle;\n",
       "    }\n",
       "\n",
       "    .dataframe tbody tr th {\n",
       "        vertical-align: top;\n",
       "    }\n",
       "\n",
       "    .dataframe thead th {\n",
       "        text-align: right;\n",
       "    }\n",
       "</style>\n",
       "<table border=\"1\" class=\"dataframe\">\n",
       "  <thead>\n",
       "    <tr style=\"text-align: right;\">\n",
       "      <th></th>\n",
       "      <th>Label</th>\n",
       "      <th>Message</th>\n",
       "      <th>Word_Count</th>\n",
       "      <th>Char_Count</th>\n",
       "      <th>Avg_Word_Length</th>\n",
       "      <th>Normalized_Message</th>\n",
       "    </tr>\n",
       "  </thead>\n",
       "  <tbody>\n",
       "    <tr>\n",
       "      <th>0</th>\n",
       "      <td>ham</td>\n",
       "      <td>Go until jurong point, crazy.. Available only ...</td>\n",
       "      <td>0.111765</td>\n",
       "      <td>0.120044</td>\n",
       "      <td>0.075532</td>\n",
       "      <td>go jurong point crazi avail bugi great world b...</td>\n",
       "    </tr>\n",
       "    <tr>\n",
       "      <th>1</th>\n",
       "      <td>ham</td>\n",
       "      <td>Ok lar... Joking wif u oni...</td>\n",
       "      <td>0.029412</td>\n",
       "      <td>0.029736</td>\n",
       "      <td>0.060284</td>\n",
       "      <td>ok lar joke wif oni</td>\n",
       "    </tr>\n",
       "    <tr>\n",
       "      <th>2</th>\n",
       "      <td>spam</td>\n",
       "      <td>Free entry in 2 a wkly comp to win FA Cup fina...</td>\n",
       "      <td>0.158824</td>\n",
       "      <td>0.168502</td>\n",
       "      <td>0.075228</td>\n",
       "      <td>free entri wkli comp win fa cup final tkt may ...</td>\n",
       "    </tr>\n",
       "    <tr>\n",
       "      <th>3</th>\n",
       "      <td>ham</td>\n",
       "      <td>U dun say so early hor... U c already then say...</td>\n",
       "      <td>0.058824</td>\n",
       "      <td>0.051762</td>\n",
       "      <td>0.052224</td>\n",
       "      <td>dun say earli hor c alreadi say</td>\n",
       "    </tr>\n",
       "    <tr>\n",
       "      <th>4</th>\n",
       "      <td>ham</td>\n",
       "      <td>Nah I don't think he goes to usf, he lives aro...</td>\n",
       "      <td>0.070588</td>\n",
       "      <td>0.064978</td>\n",
       "      <td>0.057283</td>\n",
       "      <td>nah think goe usf live around though</td>\n",
       "    </tr>\n",
       "  </tbody>\n",
       "</table>\n",
       "</div>"
      ],
      "text/plain": [
       "  Label                                            Message  Word_Count  \\\n",
       "0   ham  Go until jurong point, crazy.. Available only ...    0.111765   \n",
       "1   ham                      Ok lar... Joking wif u oni...    0.029412   \n",
       "2  spam  Free entry in 2 a wkly comp to win FA Cup fina...    0.158824   \n",
       "3   ham  U dun say so early hor... U c already then say...    0.058824   \n",
       "4   ham  Nah I don't think he goes to usf, he lives aro...    0.070588   \n",
       "\n",
       "   Char_Count  Avg_Word_Length  \\\n",
       "0    0.120044         0.075532   \n",
       "1    0.029736         0.060284   \n",
       "2    0.168502         0.075228   \n",
       "3    0.051762         0.052224   \n",
       "4    0.064978         0.057283   \n",
       "\n",
       "                                  Normalized_Message  \n",
       "0  go jurong point crazi avail bugi great world b...  \n",
       "1                                ok lar joke wif oni  \n",
       "2  free entri wkli comp win fa cup final tkt may ...  \n",
       "3                    dun say earli hor c alreadi say  \n",
       "4               nah think goe usf live around though  "
      ]
     },
     "execution_count": 34,
     "metadata": {},
     "output_type": "execute_result"
    }
   ],
   "source": [
    "df.head()"
   ]
  },
  {
   "cell_type": "code",
   "execution_count": 35,
   "id": "44eb4fd0",
   "metadata": {
    "execution": {
     "iopub.execute_input": "2024-12-06T15:48:18.609261Z",
     "iopub.status.busy": "2024-12-06T15:48:18.608801Z",
     "iopub.status.idle": "2024-12-06T15:48:18.615767Z",
     "shell.execute_reply": "2024-12-06T15:48:18.614589Z"
    },
    "papermill": {
     "duration": 0.027039,
     "end_time": "2024-12-06T15:48:18.618063",
     "exception": false,
     "start_time": "2024-12-06T15:48:18.591024",
     "status": "completed"
    },
    "tags": []
   },
   "outputs": [
    {
     "name": "stdout",
     "output_type": "stream",
     "text": [
      "Message: Go until jurong point, crazy.. Available only in bugis n great world la e buffet... Cine there got amore wat...\n",
      "Normalized_Message: go jurong point crazi avail bugi great world buffet cine got amor\n"
     ]
    }
   ],
   "source": [
    "# Set Pandas options to display the full content of columns without truncation\n",
    "pd.set_option('display.max_colwidth', None)\n",
    "\n",
    "# Display the first row's full original and normalized message\n",
    "row = df.iloc[0]\n",
    "print(f\"Message: {row['Message']}\")\n",
    "print(f\"Normalized_Message: {row['Normalized_Message']}\")\n",
    "\n"
   ]
  },
  {
   "cell_type": "code",
   "execution_count": 36,
   "id": "0ac06034",
   "metadata": {
    "execution": {
     "iopub.execute_input": "2024-12-06T15:48:18.652908Z",
     "iopub.status.busy": "2024-12-06T15:48:18.652534Z",
     "iopub.status.idle": "2024-12-06T15:48:18.674629Z",
     "shell.execute_reply": "2024-12-06T15:48:18.673245Z"
    },
    "papermill": {
     "duration": 0.042152,
     "end_time": "2024-12-06T15:48:18.676794",
     "exception": false,
     "start_time": "2024-12-06T15:48:18.634642",
     "status": "completed"
    },
    "tags": []
   },
   "outputs": [
    {
     "name": "stdout",
     "output_type": "stream",
     "text": [
      "Most Common Words in Spam Messages:\n",
      "-----------------------------------\n",
      "Word       | Count     \n",
      "-----------------------------------\n",
      "call       | 320       \n",
      "free       | 191       \n",
      "txt        | 141       \n",
      "text       | 122       \n",
      "mobil      | 114       \n",
      "stop       | 104       \n",
      "repli      | 103       \n",
      "claim      | 98        \n",
      "prize      | 82        \n",
      "get        | 74        \n",
      "\n",
      "\n",
      "Most Common Words in Ham Messages:\n",
      "-----------------------------------\n",
      "Word       | Count     \n",
      "-----------------------------------\n",
      "go         | 404       \n",
      "get        | 349       \n",
      "gt         | 288       \n",
      "lt         | 287       \n",
      "come       | 275       \n",
      "got        | 236       \n",
      "know       | 236       \n",
      "like       | 234       \n",
      "call       | 233       \n",
      "time       | 219       \n"
     ]
    }
   ],
   "source": [
    "from collections import Counter\n",
    "\n",
    "spam_words = Counter(\" \".join(df[df['Label'] == 'spam']['Normalized_Message']).split())\n",
    "ham_words = Counter(\" \".join(df[df['Label'] == 'ham']['Normalized_Message']).split())\n",
    "\n",
    "# Print spam words\n",
    "print(\"Most Common Words in Spam Messages:\")\n",
    "print(\"-\" * 35)\n",
    "print(f\"{'Word':<10} | {'Count':<10}\")\n",
    "print(\"-\" * 35)\n",
    "for word, count in spam_words.most_common(10):\n",
    "    print(f\"{word:<10} | {count:<10}\")\n",
    "print(\"\\n\")\n",
    "\n",
    "# Print ham words\n",
    "print(\"Most Common Words in Ham Messages:\")\n",
    "print(\"-\" * 35)\n",
    "print(f\"{'Word':<10} | {'Count':<10}\")\n",
    "print(\"-\" * 35)\n",
    "for word, count in ham_words.most_common(10):\n",
    "    print(f\"{word:<10} | {count:<10}\")\n",
    "\n"
   ]
  },
  {
   "cell_type": "code",
   "execution_count": 37,
   "id": "1a654ff5",
   "metadata": {
    "execution": {
     "iopub.execute_input": "2024-12-06T15:48:18.711732Z",
     "iopub.status.busy": "2024-12-06T15:48:18.711309Z",
     "iopub.status.idle": "2024-12-06T15:48:18.718345Z",
     "shell.execute_reply": "2024-12-06T15:48:18.717248Z"
    },
    "papermill": {
     "duration": 0.027427,
     "end_time": "2024-12-06T15:48:18.720571",
     "exception": false,
     "start_time": "2024-12-06T15:48:18.693144",
     "status": "completed"
    },
    "tags": []
   },
   "outputs": [],
   "source": [
    "# Encode labels\n",
    "df['Label'] = df['Label'].map({'ham': 0, 'spam': 1})\n"
   ]
  },
  {
   "cell_type": "code",
   "execution_count": 38,
   "id": "90dd886b",
   "metadata": {},
   "outputs": [
    {
     "name": "stdout",
     "output_type": "stream",
     "text": [
      "Requirement already satisfied: scikit-learn in c:\\users\\madha\\anaconda3\\lib\\site-packages (1.6.0)\n",
      "Requirement already satisfied: imbalanced-learn in c:\\users\\madha\\anaconda3\\lib\\site-packages (0.8.0)\n",
      "Collecting imbalanced-learn\n",
      "  Obtaining dependency information for imbalanced-learn from https://files.pythonhosted.org/packages/d8/0d/c3bfccc5d460eec8ff56889802aa88f5d07280d5282b307a74558e6edc44/imbalanced_learn-0.12.4-py3-none-any.whl.metadata\n",
      "  Using cached imbalanced_learn-0.12.4-py3-none-any.whl.metadata (8.3 kB)\n",
      "Requirement already satisfied: numpy>=1.19.5 in c:\\users\\madha\\anaconda3\\lib\\site-packages (from scikit-learn) (1.24.3)\n",
      "Requirement already satisfied: scipy>=1.6.0 in c:\\users\\madha\\anaconda3\\lib\\site-packages (from scikit-learn) (1.11.1)\n",
      "Requirement already satisfied: joblib>=1.2.0 in c:\\users\\madha\\anaconda3\\lib\\site-packages (from scikit-learn) (1.2.0)\n",
      "Requirement already satisfied: threadpoolctl>=3.1.0 in c:\\users\\madha\\anaconda3\\lib\\site-packages (from scikit-learn) (3.5.0)\n",
      "Using cached imbalanced_learn-0.12.4-py3-none-any.whl (258 kB)\n",
      "Installing collected packages: imbalanced-learn\n",
      "  Attempting uninstall: imbalanced-learn\n",
      "    Found existing installation: imbalanced-learn 0.8.0\n",
      "    Uninstalling imbalanced-learn-0.8.0:\n",
      "      Successfully uninstalled imbalanced-learn-0.8.0\n",
      "Successfully installed imbalanced-learn-0.12.4\n",
      "Note: you may need to restart the kernel to use updated packages.\n"
     ]
    }
   ],
   "source": [
    "pip install --upgrade scikit-learn imbalanced-learn\n"
   ]
  },
  {
   "cell_type": "code",
   "execution_count": 39,
   "id": "1cdff75f",
   "metadata": {},
   "outputs": [
    {
     "name": "stdout",
     "output_type": "stream",
     "text": [
      "Requirement already satisfied: scikit-learn in c:\\users\\madha\\anaconda3\\lib\\site-packages (1.6.0)\n",
      "Requirement already satisfied: numpy>=1.19.5 in c:\\users\\madha\\anaconda3\\lib\\site-packages (from scikit-learn) (1.24.3)\n",
      "Requirement already satisfied: scipy>=1.6.0 in c:\\users\\madha\\anaconda3\\lib\\site-packages (from scikit-learn) (1.11.1)\n",
      "Requirement already satisfied: joblib>=1.2.0 in c:\\users\\madha\\anaconda3\\lib\\site-packages (from scikit-learn) (1.2.0)\n",
      "Requirement already satisfied: threadpoolctl>=3.1.0 in c:\\users\\madha\\anaconda3\\lib\\site-packages (from scikit-learn) (3.5.0)\n",
      "Note: you may need to restart the kernel to use updated packages.\n"
     ]
    }
   ],
   "source": [
    "pip install --upgrade scikit-learn\n"
   ]
  },
  {
   "cell_type": "code",
   "execution_count": 41,
   "id": "c321603e",
   "metadata": {},
   "outputs": [
    {
     "name": "stdout",
     "output_type": "stream",
     "text": [
      "Requirement already satisfied: imbalanced-learn in c:\\users\\madha\\anaconda3\\lib\\site-packages (0.12.4)\n",
      "Requirement already satisfied: numpy>=1.17.3 in c:\\users\\madha\\anaconda3\\lib\\site-packages (from imbalanced-learn) (1.24.3)\n",
      "Requirement already satisfied: scipy>=1.5.0 in c:\\users\\madha\\anaconda3\\lib\\site-packages (from imbalanced-learn) (1.11.1)\n",
      "Requirement already satisfied: scikit-learn>=1.0.2 in c:\\users\\madha\\anaconda3\\lib\\site-packages (from imbalanced-learn) (1.6.0)\n",
      "Requirement already satisfied: joblib>=1.1.1 in c:\\users\\madha\\anaconda3\\lib\\site-packages (from imbalanced-learn) (1.2.0)\n",
      "Requirement already satisfied: threadpoolctl>=2.0.0 in c:\\users\\madha\\anaconda3\\lib\\site-packages (from imbalanced-learn) (3.5.0)\n",
      "Note: you may need to restart the kernel to use updated packages.\n"
     ]
    }
   ],
   "source": [
    "pip install --upgrade imbalanced-learn\n"
   ]
  },
  {
   "cell_type": "code",
   "execution_count": 42,
   "id": "825c7ae1",
   "metadata": {
    "execution": {
     "iopub.execute_input": "2024-12-06T15:48:18.756331Z",
     "iopub.status.busy": "2024-12-06T15:48:18.755916Z",
     "iopub.status.idle": "2024-12-06T15:48:19.371358Z",
     "shell.execute_reply": "2024-12-06T15:48:19.370259Z"
    },
    "papermill": {
     "duration": 0.636245,
     "end_time": "2024-12-06T15:48:19.373509",
     "exception": false,
     "start_time": "2024-12-06T15:48:18.737264",
     "status": "completed"
    },
    "tags": []
   },
   "outputs": [
    {
     "name": "stdout",
     "output_type": "stream",
     "text": [
      "Before SMOTE: Label\n",
      "0    4516\n",
      "1     653\n",
      "Name: count, dtype: int64\n",
      "After SMOTE: Label\n",
      "0    4516\n",
      "1    4516\n",
      "Name: count, dtype: int64\n"
     ]
    }
   ],
   "source": [
    "from scipy.sparse import hstack\n",
    "from sklearn.feature_extraction.text import TfidfVectorizer\n",
    "from imblearn.over_sampling import SMOTE\n",
    "\n",
    "# Split features and labels\n",
    "X = df['Message']\n",
    "y = df['Label']\n",
    "\n",
    "# Convert text data into numerical form using TfidfVectorizer\n",
    "vectorizer = TfidfVectorizer()\n",
    "X_transformed = vectorizer.fit_transform(X)\n",
    "\n",
    "# Apply SMOTE\n",
    "smote = SMOTE(random_state=42)\n",
    "X_resampled, y_resampled = smote.fit_resample(X_transformed, y)\n",
    "\n",
    "print(\"Before SMOTE:\", y.value_counts())\n",
    "print(\"After SMOTE:\", pd.Series(y_resampled).value_counts())\n"
   ]
  },
  {
   "cell_type": "markdown",
   "id": "f7535506",
   "metadata": {
    "papermill": {
     "duration": 0.016076,
     "end_time": "2024-12-06T15:48:19.406310",
     "exception": false,
     "start_time": "2024-12-06T15:48:19.390234",
     "status": "completed"
    },
    "tags": []
   },
   "source": [
    "<div style=\"\n",
    "    padding: 15px; \n",
    "    color: #ff6600; /* Darker orange */\n",
    "    font-weight: bold; \n",
    "    font-size: 20px; \n",
    "    font-family: 'Verdana', sans-serif;\n",
    "    text-align: left; /* Left-aligned */\n",
    "    box-shadow: 0px 2px 4px rgba(0, 0, 0, 0.2);\n",
    "    margin-top: 10px; /* Space between title and subtitle */\n",
    "\">\n",
    "    Modeling:\n",
    "</div>"
   ]
  },
  {
   "cell_type": "code",
   "execution_count": 43,
   "id": "b6c75916",
   "metadata": {
    "execution": {
     "iopub.execute_input": "2024-12-06T15:48:19.441107Z",
     "iopub.status.busy": "2024-12-06T15:48:19.440128Z",
     "iopub.status.idle": "2024-12-06T15:48:19.451254Z",
     "shell.execute_reply": "2024-12-06T15:48:19.449795Z"
    },
    "papermill": {
     "duration": 0.030813,
     "end_time": "2024-12-06T15:48:19.453450",
     "exception": false,
     "start_time": "2024-12-06T15:48:19.422637",
     "status": "completed"
    },
    "tags": []
   },
   "outputs": [
    {
     "name": "stdout",
     "output_type": "stream",
     "text": [
      "Training set class distribution:\n",
      "Label\n",
      "0    3632\n",
      "1    3593\n",
      "Name: count, dtype: int64\n"
     ]
    }
   ],
   "source": [
    "from sklearn.model_selection import train_test_split\n",
    "X_train, X_test, y_train, y_test = train_test_split(X_resampled, y_resampled, test_size=0.2, random_state=42)\n",
    "\n",
    "print(\"Training set class distribution:\")\n",
    "print(pd.Series(y_train).value_counts())\n"
   ]
  },
  {
   "cell_type": "code",
   "execution_count": 44,
   "id": "ef3531b8",
   "metadata": {
    "execution": {
     "iopub.execute_input": "2024-12-06T15:48:19.490290Z",
     "iopub.status.busy": "2024-12-06T15:48:19.489896Z",
     "iopub.status.idle": "2024-12-06T15:48:19.507124Z",
     "shell.execute_reply": "2024-12-06T15:48:19.506066Z"
    },
    "papermill": {
     "duration": 0.037797,
     "end_time": "2024-12-06T15:48:19.509337",
     "exception": false,
     "start_time": "2024-12-06T15:48:19.471540",
     "status": "completed"
    },
    "tags": []
   },
   "outputs": [
    {
     "data": {
      "text/html": [
       "<style>#sk-container-id-1 {\n",
       "  /* Definition of color scheme common for light and dark mode */\n",
       "  --sklearn-color-text: #000;\n",
       "  --sklearn-color-text-muted: #666;\n",
       "  --sklearn-color-line: gray;\n",
       "  /* Definition of color scheme for unfitted estimators */\n",
       "  --sklearn-color-unfitted-level-0: #fff5e6;\n",
       "  --sklearn-color-unfitted-level-1: #f6e4d2;\n",
       "  --sklearn-color-unfitted-level-2: #ffe0b3;\n",
       "  --sklearn-color-unfitted-level-3: chocolate;\n",
       "  /* Definition of color scheme for fitted estimators */\n",
       "  --sklearn-color-fitted-level-0: #f0f8ff;\n",
       "  --sklearn-color-fitted-level-1: #d4ebff;\n",
       "  --sklearn-color-fitted-level-2: #b3dbfd;\n",
       "  --sklearn-color-fitted-level-3: cornflowerblue;\n",
       "\n",
       "  /* Specific color for light theme */\n",
       "  --sklearn-color-text-on-default-background: var(--sg-text-color, var(--theme-code-foreground, var(--jp-content-font-color1, black)));\n",
       "  --sklearn-color-background: var(--sg-background-color, var(--theme-background, var(--jp-layout-color0, white)));\n",
       "  --sklearn-color-border-box: var(--sg-text-color, var(--theme-code-foreground, var(--jp-content-font-color1, black)));\n",
       "  --sklearn-color-icon: #696969;\n",
       "\n",
       "  @media (prefers-color-scheme: dark) {\n",
       "    /* Redefinition of color scheme for dark theme */\n",
       "    --sklearn-color-text-on-default-background: var(--sg-text-color, var(--theme-code-foreground, var(--jp-content-font-color1, white)));\n",
       "    --sklearn-color-background: var(--sg-background-color, var(--theme-background, var(--jp-layout-color0, #111)));\n",
       "    --sklearn-color-border-box: var(--sg-text-color, var(--theme-code-foreground, var(--jp-content-font-color1, white)));\n",
       "    --sklearn-color-icon: #878787;\n",
       "  }\n",
       "}\n",
       "\n",
       "#sk-container-id-1 {\n",
       "  color: var(--sklearn-color-text);\n",
       "}\n",
       "\n",
       "#sk-container-id-1 pre {\n",
       "  padding: 0;\n",
       "}\n",
       "\n",
       "#sk-container-id-1 input.sk-hidden--visually {\n",
       "  border: 0;\n",
       "  clip: rect(1px 1px 1px 1px);\n",
       "  clip: rect(1px, 1px, 1px, 1px);\n",
       "  height: 1px;\n",
       "  margin: -1px;\n",
       "  overflow: hidden;\n",
       "  padding: 0;\n",
       "  position: absolute;\n",
       "  width: 1px;\n",
       "}\n",
       "\n",
       "#sk-container-id-1 div.sk-dashed-wrapped {\n",
       "  border: 1px dashed var(--sklearn-color-line);\n",
       "  margin: 0 0.4em 0.5em 0.4em;\n",
       "  box-sizing: border-box;\n",
       "  padding-bottom: 0.4em;\n",
       "  background-color: var(--sklearn-color-background);\n",
       "}\n",
       "\n",
       "#sk-container-id-1 div.sk-container {\n",
       "  /* jupyter's `normalize.less` sets `[hidden] { display: none; }`\n",
       "     but bootstrap.min.css set `[hidden] { display: none !important; }`\n",
       "     so we also need the `!important` here to be able to override the\n",
       "     default hidden behavior on the sphinx rendered scikit-learn.org.\n",
       "     See: https://github.com/scikit-learn/scikit-learn/issues/21755 */\n",
       "  display: inline-block !important;\n",
       "  position: relative;\n",
       "}\n",
       "\n",
       "#sk-container-id-1 div.sk-text-repr-fallback {\n",
       "  display: none;\n",
       "}\n",
       "\n",
       "div.sk-parallel-item,\n",
       "div.sk-serial,\n",
       "div.sk-item {\n",
       "  /* draw centered vertical line to link estimators */\n",
       "  background-image: linear-gradient(var(--sklearn-color-text-on-default-background), var(--sklearn-color-text-on-default-background));\n",
       "  background-size: 2px 100%;\n",
       "  background-repeat: no-repeat;\n",
       "  background-position: center center;\n",
       "}\n",
       "\n",
       "/* Parallel-specific style estimator block */\n",
       "\n",
       "#sk-container-id-1 div.sk-parallel-item::after {\n",
       "  content: \"\";\n",
       "  width: 100%;\n",
       "  border-bottom: 2px solid var(--sklearn-color-text-on-default-background);\n",
       "  flex-grow: 1;\n",
       "}\n",
       "\n",
       "#sk-container-id-1 div.sk-parallel {\n",
       "  display: flex;\n",
       "  align-items: stretch;\n",
       "  justify-content: center;\n",
       "  background-color: var(--sklearn-color-background);\n",
       "  position: relative;\n",
       "}\n",
       "\n",
       "#sk-container-id-1 div.sk-parallel-item {\n",
       "  display: flex;\n",
       "  flex-direction: column;\n",
       "}\n",
       "\n",
       "#sk-container-id-1 div.sk-parallel-item:first-child::after {\n",
       "  align-self: flex-end;\n",
       "  width: 50%;\n",
       "}\n",
       "\n",
       "#sk-container-id-1 div.sk-parallel-item:last-child::after {\n",
       "  align-self: flex-start;\n",
       "  width: 50%;\n",
       "}\n",
       "\n",
       "#sk-container-id-1 div.sk-parallel-item:only-child::after {\n",
       "  width: 0;\n",
       "}\n",
       "\n",
       "/* Serial-specific style estimator block */\n",
       "\n",
       "#sk-container-id-1 div.sk-serial {\n",
       "  display: flex;\n",
       "  flex-direction: column;\n",
       "  align-items: center;\n",
       "  background-color: var(--sklearn-color-background);\n",
       "  padding-right: 1em;\n",
       "  padding-left: 1em;\n",
       "}\n",
       "\n",
       "\n",
       "/* Toggleable style: style used for estimator/Pipeline/ColumnTransformer box that is\n",
       "clickable and can be expanded/collapsed.\n",
       "- Pipeline and ColumnTransformer use this feature and define the default style\n",
       "- Estimators will overwrite some part of the style using the `sk-estimator` class\n",
       "*/\n",
       "\n",
       "/* Pipeline and ColumnTransformer style (default) */\n",
       "\n",
       "#sk-container-id-1 div.sk-toggleable {\n",
       "  /* Default theme specific background. It is overwritten whether we have a\n",
       "  specific estimator or a Pipeline/ColumnTransformer */\n",
       "  background-color: var(--sklearn-color-background);\n",
       "}\n",
       "\n",
       "/* Toggleable label */\n",
       "#sk-container-id-1 label.sk-toggleable__label {\n",
       "  cursor: pointer;\n",
       "  display: flex;\n",
       "  width: 100%;\n",
       "  margin-bottom: 0;\n",
       "  padding: 0.5em;\n",
       "  box-sizing: border-box;\n",
       "  text-align: center;\n",
       "  align-items: start;\n",
       "  justify-content: space-between;\n",
       "  gap: 0.5em;\n",
       "}\n",
       "\n",
       "#sk-container-id-1 label.sk-toggleable__label .caption {\n",
       "  font-size: 0.6rem;\n",
       "  font-weight: lighter;\n",
       "  color: var(--sklearn-color-text-muted);\n",
       "}\n",
       "\n",
       "#sk-container-id-1 label.sk-toggleable__label-arrow:before {\n",
       "  /* Arrow on the left of the label */\n",
       "  content: \"▸\";\n",
       "  float: left;\n",
       "  margin-right: 0.25em;\n",
       "  color: var(--sklearn-color-icon);\n",
       "}\n",
       "\n",
       "#sk-container-id-1 label.sk-toggleable__label-arrow:hover:before {\n",
       "  color: var(--sklearn-color-text);\n",
       "}\n",
       "\n",
       "/* Toggleable content - dropdown */\n",
       "\n",
       "#sk-container-id-1 div.sk-toggleable__content {\n",
       "  max-height: 0;\n",
       "  max-width: 0;\n",
       "  overflow: hidden;\n",
       "  text-align: left;\n",
       "  /* unfitted */\n",
       "  background-color: var(--sklearn-color-unfitted-level-0);\n",
       "}\n",
       "\n",
       "#sk-container-id-1 div.sk-toggleable__content.fitted {\n",
       "  /* fitted */\n",
       "  background-color: var(--sklearn-color-fitted-level-0);\n",
       "}\n",
       "\n",
       "#sk-container-id-1 div.sk-toggleable__content pre {\n",
       "  margin: 0.2em;\n",
       "  border-radius: 0.25em;\n",
       "  color: var(--sklearn-color-text);\n",
       "  /* unfitted */\n",
       "  background-color: var(--sklearn-color-unfitted-level-0);\n",
       "}\n",
       "\n",
       "#sk-container-id-1 div.sk-toggleable__content.fitted pre {\n",
       "  /* unfitted */\n",
       "  background-color: var(--sklearn-color-fitted-level-0);\n",
       "}\n",
       "\n",
       "#sk-container-id-1 input.sk-toggleable__control:checked~div.sk-toggleable__content {\n",
       "  /* Expand drop-down */\n",
       "  max-height: 200px;\n",
       "  max-width: 100%;\n",
       "  overflow: auto;\n",
       "}\n",
       "\n",
       "#sk-container-id-1 input.sk-toggleable__control:checked~label.sk-toggleable__label-arrow:before {\n",
       "  content: \"▾\";\n",
       "}\n",
       "\n",
       "/* Pipeline/ColumnTransformer-specific style */\n",
       "\n",
       "#sk-container-id-1 div.sk-label input.sk-toggleable__control:checked~label.sk-toggleable__label {\n",
       "  color: var(--sklearn-color-text);\n",
       "  background-color: var(--sklearn-color-unfitted-level-2);\n",
       "}\n",
       "\n",
       "#sk-container-id-1 div.sk-label.fitted input.sk-toggleable__control:checked~label.sk-toggleable__label {\n",
       "  background-color: var(--sklearn-color-fitted-level-2);\n",
       "}\n",
       "\n",
       "/* Estimator-specific style */\n",
       "\n",
       "/* Colorize estimator box */\n",
       "#sk-container-id-1 div.sk-estimator input.sk-toggleable__control:checked~label.sk-toggleable__label {\n",
       "  /* unfitted */\n",
       "  background-color: var(--sklearn-color-unfitted-level-2);\n",
       "}\n",
       "\n",
       "#sk-container-id-1 div.sk-estimator.fitted input.sk-toggleable__control:checked~label.sk-toggleable__label {\n",
       "  /* fitted */\n",
       "  background-color: var(--sklearn-color-fitted-level-2);\n",
       "}\n",
       "\n",
       "#sk-container-id-1 div.sk-label label.sk-toggleable__label,\n",
       "#sk-container-id-1 div.sk-label label {\n",
       "  /* The background is the default theme color */\n",
       "  color: var(--sklearn-color-text-on-default-background);\n",
       "}\n",
       "\n",
       "/* On hover, darken the color of the background */\n",
       "#sk-container-id-1 div.sk-label:hover label.sk-toggleable__label {\n",
       "  color: var(--sklearn-color-text);\n",
       "  background-color: var(--sklearn-color-unfitted-level-2);\n",
       "}\n",
       "\n",
       "/* Label box, darken color on hover, fitted */\n",
       "#sk-container-id-1 div.sk-label.fitted:hover label.sk-toggleable__label.fitted {\n",
       "  color: var(--sklearn-color-text);\n",
       "  background-color: var(--sklearn-color-fitted-level-2);\n",
       "}\n",
       "\n",
       "/* Estimator label */\n",
       "\n",
       "#sk-container-id-1 div.sk-label label {\n",
       "  font-family: monospace;\n",
       "  font-weight: bold;\n",
       "  display: inline-block;\n",
       "  line-height: 1.2em;\n",
       "}\n",
       "\n",
       "#sk-container-id-1 div.sk-label-container {\n",
       "  text-align: center;\n",
       "}\n",
       "\n",
       "/* Estimator-specific */\n",
       "#sk-container-id-1 div.sk-estimator {\n",
       "  font-family: monospace;\n",
       "  border: 1px dotted var(--sklearn-color-border-box);\n",
       "  border-radius: 0.25em;\n",
       "  box-sizing: border-box;\n",
       "  margin-bottom: 0.5em;\n",
       "  /* unfitted */\n",
       "  background-color: var(--sklearn-color-unfitted-level-0);\n",
       "}\n",
       "\n",
       "#sk-container-id-1 div.sk-estimator.fitted {\n",
       "  /* fitted */\n",
       "  background-color: var(--sklearn-color-fitted-level-0);\n",
       "}\n",
       "\n",
       "/* on hover */\n",
       "#sk-container-id-1 div.sk-estimator:hover {\n",
       "  /* unfitted */\n",
       "  background-color: var(--sklearn-color-unfitted-level-2);\n",
       "}\n",
       "\n",
       "#sk-container-id-1 div.sk-estimator.fitted:hover {\n",
       "  /* fitted */\n",
       "  background-color: var(--sklearn-color-fitted-level-2);\n",
       "}\n",
       "\n",
       "/* Specification for estimator info (e.g. \"i\" and \"?\") */\n",
       "\n",
       "/* Common style for \"i\" and \"?\" */\n",
       "\n",
       ".sk-estimator-doc-link,\n",
       "a:link.sk-estimator-doc-link,\n",
       "a:visited.sk-estimator-doc-link {\n",
       "  float: right;\n",
       "  font-size: smaller;\n",
       "  line-height: 1em;\n",
       "  font-family: monospace;\n",
       "  background-color: var(--sklearn-color-background);\n",
       "  border-radius: 1em;\n",
       "  height: 1em;\n",
       "  width: 1em;\n",
       "  text-decoration: none !important;\n",
       "  margin-left: 0.5em;\n",
       "  text-align: center;\n",
       "  /* unfitted */\n",
       "  border: var(--sklearn-color-unfitted-level-1) 1pt solid;\n",
       "  color: var(--sklearn-color-unfitted-level-1);\n",
       "}\n",
       "\n",
       ".sk-estimator-doc-link.fitted,\n",
       "a:link.sk-estimator-doc-link.fitted,\n",
       "a:visited.sk-estimator-doc-link.fitted {\n",
       "  /* fitted */\n",
       "  border: var(--sklearn-color-fitted-level-1) 1pt solid;\n",
       "  color: var(--sklearn-color-fitted-level-1);\n",
       "}\n",
       "\n",
       "/* On hover */\n",
       "div.sk-estimator:hover .sk-estimator-doc-link:hover,\n",
       ".sk-estimator-doc-link:hover,\n",
       "div.sk-label-container:hover .sk-estimator-doc-link:hover,\n",
       ".sk-estimator-doc-link:hover {\n",
       "  /* unfitted */\n",
       "  background-color: var(--sklearn-color-unfitted-level-3);\n",
       "  color: var(--sklearn-color-background);\n",
       "  text-decoration: none;\n",
       "}\n",
       "\n",
       "div.sk-estimator.fitted:hover .sk-estimator-doc-link.fitted:hover,\n",
       ".sk-estimator-doc-link.fitted:hover,\n",
       "div.sk-label-container:hover .sk-estimator-doc-link.fitted:hover,\n",
       ".sk-estimator-doc-link.fitted:hover {\n",
       "  /* fitted */\n",
       "  background-color: var(--sklearn-color-fitted-level-3);\n",
       "  color: var(--sklearn-color-background);\n",
       "  text-decoration: none;\n",
       "}\n",
       "\n",
       "/* Span, style for the box shown on hovering the info icon */\n",
       ".sk-estimator-doc-link span {\n",
       "  display: none;\n",
       "  z-index: 9999;\n",
       "  position: relative;\n",
       "  font-weight: normal;\n",
       "  right: .2ex;\n",
       "  padding: .5ex;\n",
       "  margin: .5ex;\n",
       "  width: min-content;\n",
       "  min-width: 20ex;\n",
       "  max-width: 50ex;\n",
       "  color: var(--sklearn-color-text);\n",
       "  box-shadow: 2pt 2pt 4pt #999;\n",
       "  /* unfitted */\n",
       "  background: var(--sklearn-color-unfitted-level-0);\n",
       "  border: .5pt solid var(--sklearn-color-unfitted-level-3);\n",
       "}\n",
       "\n",
       ".sk-estimator-doc-link.fitted span {\n",
       "  /* fitted */\n",
       "  background: var(--sklearn-color-fitted-level-0);\n",
       "  border: var(--sklearn-color-fitted-level-3);\n",
       "}\n",
       "\n",
       ".sk-estimator-doc-link:hover span {\n",
       "  display: block;\n",
       "}\n",
       "\n",
       "/* \"?\"-specific style due to the `<a>` HTML tag */\n",
       "\n",
       "#sk-container-id-1 a.estimator_doc_link {\n",
       "  float: right;\n",
       "  font-size: 1rem;\n",
       "  line-height: 1em;\n",
       "  font-family: monospace;\n",
       "  background-color: var(--sklearn-color-background);\n",
       "  border-radius: 1rem;\n",
       "  height: 1rem;\n",
       "  width: 1rem;\n",
       "  text-decoration: none;\n",
       "  /* unfitted */\n",
       "  color: var(--sklearn-color-unfitted-level-1);\n",
       "  border: var(--sklearn-color-unfitted-level-1) 1pt solid;\n",
       "}\n",
       "\n",
       "#sk-container-id-1 a.estimator_doc_link.fitted {\n",
       "  /* fitted */\n",
       "  border: var(--sklearn-color-fitted-level-1) 1pt solid;\n",
       "  color: var(--sklearn-color-fitted-level-1);\n",
       "}\n",
       "\n",
       "/* On hover */\n",
       "#sk-container-id-1 a.estimator_doc_link:hover {\n",
       "  /* unfitted */\n",
       "  background-color: var(--sklearn-color-unfitted-level-3);\n",
       "  color: var(--sklearn-color-background);\n",
       "  text-decoration: none;\n",
       "}\n",
       "\n",
       "#sk-container-id-1 a.estimator_doc_link.fitted:hover {\n",
       "  /* fitted */\n",
       "  background-color: var(--sklearn-color-fitted-level-3);\n",
       "}\n",
       "</style><div id=\"sk-container-id-1\" class=\"sk-top-container\"><div class=\"sk-text-repr-fallback\"><pre>MultinomialNB()</pre><b>In a Jupyter environment, please rerun this cell to show the HTML representation or trust the notebook. <br />On GitHub, the HTML representation is unable to render, please try loading this page with nbviewer.org.</b></div><div class=\"sk-container\" hidden><div class=\"sk-item\"><div class=\"sk-estimator fitted sk-toggleable\"><input class=\"sk-toggleable__control sk-hidden--visually\" id=\"sk-estimator-id-1\" type=\"checkbox\" checked><label for=\"sk-estimator-id-1\" class=\"sk-toggleable__label fitted sk-toggleable__label-arrow\"><div><div>MultinomialNB</div></div><div><a class=\"sk-estimator-doc-link fitted\" rel=\"noreferrer\" target=\"_blank\" href=\"https://scikit-learn.org/1.6/modules/generated/sklearn.naive_bayes.MultinomialNB.html\">?<span>Documentation for MultinomialNB</span></a><span class=\"sk-estimator-doc-link fitted\">i<span>Fitted</span></span></div></label><div class=\"sk-toggleable__content fitted\"><pre>MultinomialNB()</pre></div> </div></div></div></div>"
      ],
      "text/plain": [
       "MultinomialNB()"
      ]
     },
     "execution_count": 44,
     "metadata": {},
     "output_type": "execute_result"
    }
   ],
   "source": [
    "from sklearn.naive_bayes import MultinomialNB\n",
    "from sklearn.metrics import accuracy_score, classification_report\n",
    "\n",
    "\n",
    "model = MultinomialNB()\n",
    "model.fit(X_train, y_train)\n"
   ]
  },
  {
   "cell_type": "code",
   "execution_count": 45,
   "id": "1091b8e0",
   "metadata": {
    "execution": {
     "iopub.execute_input": "2024-12-06T15:48:19.547554Z",
     "iopub.status.busy": "2024-12-06T15:48:19.546631Z",
     "iopub.status.idle": "2024-12-06T15:48:19.552370Z",
     "shell.execute_reply": "2024-12-06T15:48:19.551225Z"
    },
    "papermill": {
     "duration": 0.026891,
     "end_time": "2024-12-06T15:48:19.554388",
     "exception": false,
     "start_time": "2024-12-06T15:48:19.527497",
     "status": "completed"
    },
    "tags": []
   },
   "outputs": [],
   "source": [
    "# Predictions\n",
    "y_pred = model.predict(X_test)"
   ]
  },
  {
   "cell_type": "code",
   "execution_count": 46,
   "id": "d897fcc3",
   "metadata": {
    "execution": {
     "iopub.execute_input": "2024-12-06T15:48:19.592686Z",
     "iopub.status.busy": "2024-12-06T15:48:19.592303Z",
     "iopub.status.idle": "2024-12-06T15:48:19.599811Z",
     "shell.execute_reply": "2024-12-06T15:48:19.598787Z"
    },
    "papermill": {
     "duration": 0.029564,
     "end_time": "2024-12-06T15:48:19.601788",
     "exception": false,
     "start_time": "2024-12-06T15:48:19.572224",
     "status": "completed"
    },
    "tags": []
   },
   "outputs": [
    {
     "name": "stdout",
     "output_type": "stream",
     "text": [
      "Accuracy: 0.9889319313779745\n"
     ]
    }
   ],
   "source": [
    "# Evaluation\n",
    "print(\"Accuracy:\", accuracy_score(y_test, y_pred))"
   ]
  },
  {
   "cell_type": "code",
   "execution_count": 47,
   "id": "35da9215",
   "metadata": {
    "execution": {
     "iopub.execute_input": "2024-12-06T15:48:19.640405Z",
     "iopub.status.busy": "2024-12-06T15:48:19.639482Z",
     "iopub.status.idle": "2024-12-06T15:48:19.656133Z",
     "shell.execute_reply": "2024-12-06T15:48:19.654859Z"
    },
    "papermill": {
     "duration": 0.037974,
     "end_time": "2024-12-06T15:48:19.658422",
     "exception": false,
     "start_time": "2024-12-06T15:48:19.620448",
     "status": "completed"
    },
    "tags": []
   },
   "outputs": [
    {
     "name": "stdout",
     "output_type": "stream",
     "text": [
      "Classification Report:\n",
      "               precision    recall  f1-score   support\n",
      "\n",
      "           0       0.99      0.99      0.99       884\n",
      "           1       0.99      0.99      0.99       923\n",
      "\n",
      "    accuracy                           0.99      1807\n",
      "   macro avg       0.99      0.99      0.99      1807\n",
      "weighted avg       0.99      0.99      0.99      1807\n",
      "\n"
     ]
    }
   ],
   "source": [
    "print(\"Classification Report:\\n\", classification_report(y_test, y_pred))"
   ]
  },
  {
   "cell_type": "markdown",
   "id": "ce21cb31",
   "metadata": {
    "papermill": {
     "duration": 0.017637,
     "end_time": "2024-12-06T15:48:19.694005",
     "exception": false,
     "start_time": "2024-12-06T15:48:19.676368",
     "status": "completed"
    },
    "tags": []
   },
   "source": [
    "<div style=\"\n",
    "    padding: 15px; \n",
    "    color: #ff6600; /* Darker orange */\n",
    "    font-weight: bold; \n",
    "    font-size: 20px; \n",
    "    font-family: 'Verdana', sans-serif;\n",
    "    text-align: left; /* Left-aligned */\n",
    "    box-shadow: 0px 2px 4px rgba(0, 0, 0, 0.2);\n",
    "    margin-top: 10px; /* Space between title and subtitle */\n",
    "\">\n",
    "    Save Model:\n",
    "</div>"
   ]
  },
  {
   "cell_type": "code",
   "execution_count": 48,
   "id": "7bd03bab",
   "metadata": {
    "execution": {
     "iopub.execute_input": "2024-12-06T15:48:19.732467Z",
     "iopub.status.busy": "2024-12-06T15:48:19.731020Z",
     "iopub.status.idle": "2024-12-06T15:48:19.739469Z",
     "shell.execute_reply": "2024-12-06T15:48:19.738412Z"
    },
    "papermill": {
     "duration": 0.029845,
     "end_time": "2024-12-06T15:48:19.741723",
     "exception": false,
     "start_time": "2024-12-06T15:48:19.711878",
     "status": "completed"
    },
    "tags": []
   },
   "outputs": [
    {
     "data": {
      "text/plain": [
       "['model.pkl']"
      ]
     },
     "execution_count": 48,
     "metadata": {},
     "output_type": "execute_result"
    }
   ],
   "source": [
    "import joblib\n",
    "churn_model=model\n",
    "# Save the model\n",
    "joblib.dump(churn_model, \"model.pkl\")"
   ]
  },
  {
   "cell_type": "code",
   "execution_count": 49,
   "id": "55d53049",
   "metadata": {
    "execution": {
     "iopub.execute_input": "2024-12-06T15:48:19.780298Z",
     "iopub.status.busy": "2024-12-06T15:48:19.779880Z",
     "iopub.status.idle": "2024-12-06T15:48:19.835930Z",
     "shell.execute_reply": "2024-12-06T15:48:19.834835Z"
    },
    "papermill": {
     "duration": 0.077588,
     "end_time": "2024-12-06T15:48:19.838130",
     "exception": false,
     "start_time": "2024-12-06T15:48:19.760542",
     "status": "completed"
    },
    "tags": []
   },
   "outputs": [
    {
     "name": "stdout",
     "output_type": "stream",
     "text": [
      "TF-IDF vectorizer loaded successfully.\n"
     ]
    }
   ],
   "source": [
    "joblib.dump(vectorizer, 'tfidf_vectorizer.pkl')\n",
    "\n",
    "print(\"TF-IDF vectorizer loaded successfully.\")"
   ]
  },
  {
   "cell_type": "markdown",
   "id": "e662c7d5",
   "metadata": {
    "papermill": {
     "duration": 0.017888,
     "end_time": "2024-12-06T15:48:19.873948",
     "exception": false,
     "start_time": "2024-12-06T15:48:19.856060",
     "status": "completed"
    },
    "tags": []
   },
   "source": [
    "<div style=\"\n",
    "    padding: 15px; \n",
    "    color: #ff6600; /* Darker orange */\n",
    "    font-weight: bold; \n",
    "    font-size: 20px; \n",
    "    font-family: 'Verdana', sans-serif;\n",
    "    text-align: left; /* Left-aligned */\n",
    "    box-shadow: 0px 2px 4px rgba(0, 0, 0, 0.2);\n",
    "    margin-top: 10px; /* Space between title and subtitle */\n",
    "\">\n",
    "    Predict New Data:\n",
    "</div>"
   ]
  },
  {
   "cell_type": "code",
   "execution_count": 50,
   "id": "1da076b4",
   "metadata": {
    "execution": {
     "iopub.execute_input": "2024-12-06T15:48:19.911607Z",
     "iopub.status.busy": "2024-12-06T15:48:19.911227Z",
     "iopub.status.idle": "2024-12-06T15:48:19.917428Z",
     "shell.execute_reply": "2024-12-06T15:48:19.916354Z"
    },
    "papermill": {
     "duration": 0.027742,
     "end_time": "2024-12-06T15:48:19.919683",
     "exception": false,
     "start_time": "2024-12-06T15:48:19.891941",
     "status": "completed"
    },
    "tags": []
   },
   "outputs": [],
   "source": [
    "def predict_message(message, model, vectorizer):\n",
    "    # Define label mapping\n",
    "    label_mapping = {\n",
    "        0: \"Not Spam\", \n",
    "        1: \"Spam\"       \n",
    "    }\n",
    "    \n",
    "    # Preprocess the message\n",
    "    message_transformed = vectorizer.transform([message])\n",
    "    \n",
    "    # Predict the class and probabilities\n",
    "    predicted_class = model.predict(message_transformed)[0]\n",
    "    predicted_probabilities = model.predict_proba(message_transformed)[0]\n",
    "    \n",
    "    # Map the predicted class to its label\n",
    "    predicted_label = label_mapping[predicted_class]\n",
    "    \n",
    "    return predicted_label, predicted_probabilities\n",
    "\n"
   ]
  },
  {
   "cell_type": "code",
   "execution_count": 51,
   "id": "67c0714a",
   "metadata": {
    "execution": {
     "iopub.execute_input": "2024-12-06T15:48:19.957343Z",
     "iopub.status.busy": "2024-12-06T15:48:19.956945Z",
     "iopub.status.idle": "2024-12-06T15:48:19.965312Z",
     "shell.execute_reply": "2024-12-06T15:48:19.964128Z"
    },
    "papermill": {
     "duration": 0.029617,
     "end_time": "2024-12-06T15:48:19.967242",
     "exception": false,
     "start_time": "2024-12-06T15:48:19.937625",
     "status": "completed"
    },
    "tags": []
   },
   "outputs": [
    {
     "name": "stdout",
     "output_type": "stream",
     "text": [
      "Predicted Class: Not Spam\n",
      "Prediction Probabilities: [0.98788306 0.01211694]\n"
     ]
    }
   ],
   "source": [
    "new_message = \"Hi Alex, I hope you're doing well. Just a reminder about our meeting tomorrow at 10 AM. Let me know if the time still works for you. Looking forward to catching up!\"\n",
    "predicted_class, predicted_probabilities = predict_message(new_message, model, vectorizer)\n",
    "print(f\"Predicted Class: {predicted_class}\")\n",
    "print(f\"Prediction Probabilities: {predicted_probabilities}\")\n"
   ]
  },
  {
   "cell_type": "code",
   "execution_count": 52,
   "id": "b86ee371",
   "metadata": {
    "execution": {
     "iopub.execute_input": "2024-12-06T15:48:20.007514Z",
     "iopub.status.busy": "2024-12-06T15:48:20.007055Z",
     "iopub.status.idle": "2024-12-06T15:48:20.015562Z",
     "shell.execute_reply": "2024-12-06T15:48:20.014400Z"
    },
    "papermill": {
     "duration": 0.032191,
     "end_time": "2024-12-06T15:48:20.017558",
     "exception": false,
     "start_time": "2024-12-06T15:48:19.985367",
     "status": "completed"
    },
    "tags": []
   },
   "outputs": [
    {
     "name": "stdout",
     "output_type": "stream",
     "text": [
      "Predicted Class: Spam\n",
      "Prediction Probabilities: [0.06412385 0.93587615]\n"
     ]
    }
   ],
   "source": [
    "new_message = \"Congratulations! You've won a free trip to Hawaii!\"\n",
    "predicted_class, predicted_probabilities = predict_message(new_message, model, vectorizer)\n",
    "print(f\"Predicted Class: {predicted_class}\")\n",
    "print(f\"Prediction Probabilities: {predicted_probabilities}\")\n"
   ]
  },
  {
   "cell_type": "code",
   "execution_count": null,
   "id": "fab193a5",
   "metadata": {},
   "outputs": [],
   "source": []
  }
 ],
 "metadata": {
  "kaggle": {
   "accelerator": "none",
   "dataSources": [
    {
     "datasetId": 483,
     "sourceId": 982,
     "sourceType": "datasetVersion"
    }
   ],
   "dockerImageVersionId": 30786,
   "isGpuEnabled": false,
   "isInternetEnabled": true,
   "language": "python",
   "sourceType": "notebook"
  },
  "kernelspec": {
   "display_name": "Python 3 (ipykernel)",
   "language": "python",
   "name": "python3"
  },
  "language_info": {
   "codemirror_mode": {
    "name": "ipython",
    "version": 3
   },
   "file_extension": ".py",
   "mimetype": "text/x-python",
   "name": "python",
   "nbconvert_exporter": "python",
   "pygments_lexer": "ipython3",
   "version": "3.11.5"
  },
  "papermill": {
   "default_parameters": {},
   "duration": 14.654252,
   "end_time": "2024-12-06T15:48:20.757578",
   "environment_variables": {},
   "exception": null,
   "input_path": "__notebook__.ipynb",
   "output_path": "__notebook__.ipynb",
   "parameters": {},
   "start_time": "2024-12-06T15:48:06.103326",
   "version": "2.6.0"
  }
 },
 "nbformat": 4,
 "nbformat_minor": 5
}
